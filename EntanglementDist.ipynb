{
 "cells": [
  {
   "cell_type": "code",
   "execution_count": 129,
   "metadata": {},
   "outputs": [],
   "source": [
    "import torch\n",
    "from opt_einsum import contract\n",
    "import numpy as np\n",
    "import string\n",
    "import itertools as itt"
   ]
  },
  {
   "cell_type": "code",
   "execution_count": 130,
   "metadata": {},
   "outputs": [],
   "source": [
    "import importlib\n",
    "import entanglement_dist\n",
    "importlib.reload(entanglement_dist)\n",
    "from entanglement_dist import *"
   ]
  },
  {
   "cell_type": "code",
   "execution_count": 131,
   "metadata": {},
   "outputs": [
    {
     "name": "stdout",
     "output_type": "stream",
     "text": [
      "tensor(0.2403) 3.169925001442312\n",
      "tensor(0.4654) 3.169925001442312\n",
      "tensor(0.6071) 3.169925001442312\n",
      "tensor(0.6949) 4.0\n",
      "tensor(1.1039) 4.0\n",
      "tensor(1.5076) 4.643856189774724\n"
     ]
    },
    {
     "data": {
      "text/plain": [
       "array([[0.        , 2.57962894, 1.9184953 , 1.65279984],\n",
       "       [2.57962894, 0.        , 1.75026488, 1.28745627],\n",
       "       [1.9184953 , 1.75026488, 0.        , 1.12503731],\n",
       "       [1.65279984, 1.28745627, 1.12503731, 0.        ]])"
      ]
     },
     "execution_count": 131,
     "metadata": {},
     "output_type": "execute_result"
    }
   ],
   "source": [
    "\n",
    "phi=torch.randn(3,4,5,6)\n",
    "get_tensor_geometry(phi)"
   ]
  },
  {
   "cell_type": "code",
   "execution_count": null,
   "metadata": {},
   "outputs": [],
   "source": []
  }
 ],
 "metadata": {
  "kernelspec": {
   "display_name": "tf-gpu",
   "language": "python",
   "name": "python3"
  },
  "language_info": {
   "codemirror_mode": {
    "name": "ipython",
    "version": 3
   },
   "file_extension": ".py",
   "mimetype": "text/x-python",
   "name": "python",
   "nbconvert_exporter": "python",
   "pygments_lexer": "ipython3",
   "version": "3.9.15"
  },
  "orig_nbformat": 4
 },
 "nbformat": 4,
 "nbformat_minor": 2
}
