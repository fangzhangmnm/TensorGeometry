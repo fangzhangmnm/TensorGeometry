{
 "cells": [
  {
   "cell_type": "code",
   "execution_count": 1,
   "metadata": {},
   "outputs": [],
   "source": [
    "from sympy import *\n",
    "import sympy as sp\n",
    "from opt_einsum import contract as _contract\n",
    "import numpy as np\n",
    "\n",
    "import importlib\n",
    "import symGR\n",
    "importlib.reload(symGR)\n",
    "from symGR import *\n"
   ]
  },
  {
   "cell_type": "code",
   "execution_count": 2,
   "metadata": {},
   "outputs": [
    {
     "name": "stdout",
     "output_type": "stream",
     "text": [
      "try to solve for coords1_in_2\n",
      "[{t: u + v, phi: u - v}]\n"
     ]
    },
    {
     "data": {
      "text/latex": [
       "$\\displaystyle \\left[\\begin{matrix}l^{2} & 0 & 0\\\\0 & - \\frac{l^{2} e^{2 \\rho}}{4} & 0\\\\0 & 0 & \\frac{l^{2} e^{2 \\rho}}{4}\\end{matrix}\\right]$"
      ],
      "text/plain": [
       "Matrix([\n",
       "[l**2,                  0,                 0],\n",
       "[   0, -l**2*exp(2*rho)/4,                 0],\n",
       "[   0,                  0, l**2*exp(2*rho)/4]])"
      ]
     },
     "metadata": {},
     "output_type": "display_data"
    },
    {
     "data": {
      "text/latex": [
       "$\\displaystyle \\left[\\begin{matrix}0 & - \\frac{l^{2} e^{2 \\rho}}{2} & 0\\\\- \\frac{l^{2} e^{2 \\rho}}{2} & 0 & 0\\\\0 & 0 & l^{2}\\end{matrix}\\right]$"
      ],
      "text/plain": [
       "[[0, -l**2*exp(2*rho)/2, 0], [-l**2*exp(2*rho)/2, 0, 0], [0, 0, l**2]]"
      ]
     },
     "metadata": {},
     "output_type": "display_data"
    }
   ],
   "source": [
    "\n",
    "coords=u,v,rho=sp.symbols('u,v,rho',real=True)\n",
    "\n",
    "coords0=rho,t,phi=sp.symbols('rho,t,phi',real=True)\n",
    "transf={u:(t+phi)/2,v:(t-phi)/2,rho:rho}\n",
    "transf=CoordinateTransformation(coords0,coords,transf)\n",
    "\n",
    "AdSRad=symbols('l')\n",
    "g=AdSRad**2*diag(1,-exp(2*rho)/4,exp(2*rho)/4)\n",
    "display(g)\n",
    "g=transf.transform(g,'dd')\n",
    "display(g)"
   ]
  },
  {
   "cell_type": "code",
   "execution_count": 3,
   "metadata": {},
   "outputs": [
    {
     "data": {
      "text/latex": [
       "$\\displaystyle \\left[\\begin{matrix}- \\left(m - n\\right) e^{i m u} e^{i n u} & \\frac{\\left(m - n\\right) \\left(m + n\\right)^{2} e^{- 2 \\rho} e^{i m u} e^{i n u}}{2} & \\frac{i \\left(m - n\\right) \\left(m + n\\right) e^{i m u} e^{i n u}}{2}\\end{matrix}\\right]$"
      ],
      "text/plain": [
       "[-(m - n)*exp(I*m*u)*exp(I*n*u), (m - n)*(m + n)**2*exp(-2*rho)*exp(I*m*u)*exp(I*n*u)/2, I*(m - n)*(m + n)*exp(I*m*u)*exp(I*n*u)/2]"
      ]
     },
     "metadata": {},
     "output_type": "display_data"
    },
    {
     "data": {
      "text/latex": [
       "$\\displaystyle \\left[\\begin{matrix}- \\left(m - n\\right) e^{i m u} e^{i n u} & \\frac{\\left(m - n\\right) \\left(m + n\\right)^{2} e^{- 2 \\rho} e^{i m u} e^{i n u}}{2} & \\frac{i \\left(m - n\\right) \\left(m + n\\right) e^{i m u} e^{i n u}}{2}\\end{matrix}\\right]$"
      ],
      "text/plain": [
       "[-(m - n)*exp(I*m*u)*exp(I*n*u), (m - n)*(m + n)**2*exp(-2*rho)*exp(I*m*u)*exp(I*n*u)/2, I*(m - n)*(m + n)*exp(I*m*u)*exp(I*n*u)/2]"
      ]
     },
     "metadata": {},
     "output_type": "display_data"
    }
   ],
   "source": [
    "m,n=symbols('m n',integer=True)\n",
    "\n",
    "def get_zeta(n):\n",
    "    return exp(I*n*u)*Array([1,-Rational(1,2)*n**2*exp(-2*rho),-I*n/2])\n",
    "\n",
    "\n",
    "lie_derivative,lie_bracket=get_lie_derivative(coords)\n",
    "\n",
    "display(factor(I*lie_bracket(get_zeta(n),get_zeta(m))))\n",
    "display(factor((n-m)*get_zeta(n+m)))"
   ]
  },
  {
   "cell_type": "code",
   "execution_count": 4,
   "metadata": {},
   "outputs": [
    {
     "data": {
      "text/latex": [
       "$\\displaystyle \\left[\\begin{matrix}\\frac{i l^{2} n^{3} e^{i n u}}{2} & 0 & 0\\\\0 & 0 & 0\\\\0 & 0 & 0\\end{matrix}\\right]$"
      ],
      "text/plain": [
       "[[I*l**2*n**3*exp(I*n*u)/2, 0, 0], [0, 0, 0], [0, 0, 0]]"
      ]
     },
     "metadata": {},
     "output_type": "display_data"
    }
   ],
   "source": [
    "dzndg=lie_derivative(g,get_zeta(n),'dd')\n",
    "display(dzndg)"
   ]
  },
  {
   "cell_type": "code",
   "execution_count": null,
   "metadata": {},
   "outputs": [],
   "source": []
  }
 ],
 "metadata": {
  "kernelspec": {
   "display_name": "tf-gpu",
   "language": "python",
   "name": "tf-gpu"
  },
  "language_info": {
   "codemirror_mode": {
    "name": "ipython",
    "version": 3
   },
   "file_extension": ".py",
   "mimetype": "text/x-python",
   "name": "python",
   "nbconvert_exporter": "python",
   "pygments_lexer": "ipython3",
   "version": "3.9.15"
  },
  "orig_nbformat": 4
 },
 "nbformat": 4,
 "nbformat_minor": 2
}
