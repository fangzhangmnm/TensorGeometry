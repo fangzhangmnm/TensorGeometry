{
 "cells": [
  {
   "cell_type": "code",
   "execution_count": 10,
   "metadata": {},
   "outputs": [],
   "source": [
    "import sympy as sp\n",
    "from sympy import *\n",
    "import numpy as np\n",
    "from opt_einsum import contract as _contract\n",
    "import itertools as itt\n",
    "from IPython.display import display, Latex\n",
    "init_printing()\n",
    "\n",
    "def contract(expr,*tensors,**args):\n",
    "    if contract.dest is not None:\n",
    "        expr+='->'+contract.dest\n",
    "    rtval= _contract(expr,*tensors, backend='object',**args)\n",
    "    return rtval.item() if rtval.shape==() else Array(rtval)\n",
    "    \n",
    "class contract_dest:\n",
    "    def __init__(self, dest):\n",
    "        self.dest= dest\n",
    "    def __enter__(self):\n",
    "        contract.dest,self.dest= self.dest,contract.dest\n",
    "    def __exit__(self, *args):\n",
    "        contract.dest= self.dest\n",
    "contract.dest=None\n",
    "\n",
    "\n",
    "def print_nonzero_terms(v):\n",
    "    for i in itt.product(*[range(d) for d in v.shape]):\n",
    "        if v[i]!=0:\n",
    "            print(i,v[i])\n",
    "\n",
    "def get_covariant_derivative(coords, Gm=None):\n",
    "    def covariant_derivative(v,indice_positions=''):\n",
    "        ''' a: tensor, indice_positions: list of index type\n",
    "            index types:\n",
    "                - 'i': internal, \n",
    "                - 'u': curved upper, 'd' curved lower\n",
    "        '''\n",
    "        rtval=derive_by_array(v,coords)\n",
    "        for i,ind in enumerate(indice_positions):\n",
    "            if ind=='u': # D_u T^v=∂_u T^v+Γ^v_ur T^r\n",
    "                rtval+=np.swapaxes(contract('vur,r...->uv...',Gm,np.swapaxes(v,0,i)),1,i+1)\n",
    "            elif ind=='d': # D_u T_v=∂_u T_v-Γ^r_uv T^r\n",
    "                rtval-=np.swapaxes(contract('ruv,r...->uv...',Gm,np.swapaxes(v,0,i)),1,i+1)\n",
    "        return Array(simplify(rtval))\n",
    "    return covariant_derivative\n"
   ]
  },
  {
   "attachments": {},
   "cell_type": "markdown",
   "metadata": {},
   "source": [
    "# Spherical symmetry with zero cosmological constant"
   ]
  },
  {
   "cell_type": "code",
   "execution_count": 11,
   "metadata": {},
   "outputs": [
    {
     "data": {
      "text/latex": [
       "$\\displaystyle \\left[\\begin{matrix}- f{\\left(r \\right)} & 0 & 0 & 0\\\\0 & g{\\left(r \\right)} & 0 & 0\\\\0 & 0 & r^{2} & 0\\\\0 & 0 & 0 & r^{2} \\sin^{2}{\\left(\\theta \\right)}\\end{matrix}\\right]$"
      ],
      "text/plain": [
       "⎡-f(r)   0    0       0     ⎤\n",
       "⎢                           ⎥\n",
       "⎢  0    g(r)  0       0     ⎥\n",
       "⎢                           ⎥\n",
       "⎢              2            ⎥\n",
       "⎢  0     0    r       0     ⎥\n",
       "⎢                           ⎥\n",
       "⎢                  2    2   ⎥\n",
       "⎣  0     0    0   r ⋅sin (θ)⎦"
      ]
     },
     "metadata": {},
     "output_type": "display_data"
    }
   ],
   "source": [
    "t,r,th,phi=coords=symbols('t,r,theta,phi')\n",
    "fFunc=Function('f')(r)\n",
    "gFunc=Function('g')(r)\n",
    "df=diff(fFunc,r)\n",
    "dg=diff(gFunc,r)\n",
    "ddf=diff(fFunc,r,r)\n",
    "ddg=diff(gFunc,r,r)\n",
    "\n",
    "g=diag(-fFunc,gFunc,r**2,r**2*sin(th)**2)\n",
    "\n",
    "display(g)"
   ]
  },
  {
   "cell_type": "code",
   "execution_count": 12,
   "metadata": {},
   "outputs": [],
   "source": [
    "# Γ^k_ij=1/2 g^kl (∂_i g_jl+∂_j g_il-∂_l g_ij)\n",
    "ginv=g.inv()\n",
    "dg=derive_by_array(g,coords)\n",
    "with contract_dest('kij'):\n",
    "    Gm=(contract('kl,ijl',ginv,dg)+contract('kl,jil',ginv,dg)-contract('kl,lij',ginv,dg))/2\n",
    "\n",
    "# R^r_smn=∂m Γ^r_ns - ∂n Γ^r_ms +Γ^r_ml Γ^l_ns - Γ^r_nl Γ^l_ms\n",
    "dGm=derive_by_array(Gm,coords)\n",
    "with contract_dest('rsmn'):\n",
    "    Rie=contract('mrns',dGm)-contract('nrms',dGm)+contract('rml,lns',Gm,Gm)-contract('rnl,lms',Gm,Gm)\n",
    "\n",
    "\n",
    "# R_ij=R^r_irj\n",
    "with contract_dest('ij'):\n",
    "    Ric=contract('rirj',Rie)\n",
    "\n",
    "RicS=contract('ij,ij',Ric,ginv)\n",
    "RicS=expand(RicS)"
   ]
  },
  {
   "cell_type": "code",
   "execution_count": 13,
   "metadata": {},
   "outputs": [
    {
     "data": {
      "image/png": "[encoded data removed]",
      "text/latex": [
       "$\\displaystyle \\frac{\\frac{d^{2}}{d r^{2}} f{\\left(r \\right)}}{2 g{\\left(r \\right)}} - \\frac{\\frac{d}{d r} f{\\left(r \\right)} \\frac{d}{d r} g{\\left(r \\right)}}{4 g^{2}{\\left(r \\right)}} - \\frac{\\left(\\frac{d}{d r} f{\\left(r \\right)}\\right)^{2}}{4 f{\\left(r \\right)} g{\\left(r \\right)}} + \\frac{\\frac{d}{d r} f{\\left(r \\right)}}{r g{\\left(r \\right)}}$"
      ],
      "text/plain": [
       "  2                                                   \n",
       " d                                        2           \n",
       "───(f(r))   d        d          ⎛d       ⎞    d       \n",
       "  2         ──(f(r))⋅──(g(r))   ⎜──(f(r))⎟    ──(f(r))\n",
       "dr          dr       dr         ⎝dr      ⎠    dr      \n",
       "───────── - ───────────────── - ─────────── + ────────\n",
       "  2⋅g(r)            2           4⋅f(r)⋅g(r)    r⋅g(r) \n",
       "                 4⋅g (r)                              "
      ]
     },
     "metadata": {},
     "output_type": "display_data"
    },
    {
     "data": {
      "image/png": "[encoded data removed]",
      "text/latex": [
       "$\\displaystyle - \\frac{\\frac{d^{2}}{d r^{2}} f{\\left(r \\right)}}{2 f{\\left(r \\right)}} + \\frac{\\frac{d}{d r} f{\\left(r \\right)} \\frac{d}{d r} g{\\left(r \\right)}}{4 f{\\left(r \\right)} g{\\left(r \\right)}} + \\frac{\\left(\\frac{d}{d r} f{\\left(r \\right)}\\right)^{2}}{4 f^{2}{\\left(r \\right)}} + \\frac{\\frac{d}{d r} g{\\left(r \\right)}}{r g{\\left(r \\right)}}$"
      ],
      "text/plain": [
       "    2                                                   \n",
       "   d                                        2           \n",
       "  ───(f(r))   d        d          ⎛d       ⎞    d       \n",
       "    2         ──(f(r))⋅──(g(r))   ⎜──(f(r))⎟    ──(g(r))\n",
       "  dr          dr       dr         ⎝dr      ⎠    dr      \n",
       "- ───────── + ───────────────── + ─────────── + ────────\n",
       "    2⋅f(r)       4⋅f(r)⋅g(r)           2         r⋅g(r) \n",
       "                                    4⋅f (r)             "
      ]
     },
     "metadata": {},
     "output_type": "display_data"
    },
    {
     "data": {
      "image/png": "[encoded data removed]",
      "text/latex": [
       "$\\displaystyle \\frac{r \\frac{d}{d r} g{\\left(r \\right)}}{2 g^{2}{\\left(r \\right)}} - \\frac{r \\frac{d}{d r} f{\\left(r \\right)}}{2 f{\\left(r \\right)} g{\\left(r \\right)}} + 1 - \\frac{1}{g{\\left(r \\right)}}$"
      ],
      "text/plain": [
       "  d             d                  \n",
       "r⋅──(g(r))    r⋅──(f(r))           \n",
       "  dr            dr              1  \n",
       "────────── - ─────────── + 1 - ────\n",
       "    2        2⋅f(r)⋅g(r)       g(r)\n",
       " 2⋅g (r)                           "
      ]
     },
     "metadata": {},
     "output_type": "display_data"
    },
    {
     "data": {
      "image/png": "[encoded data removed]",
      "text/latex": [
       "$\\displaystyle \\frac{r \\sin^{2}{\\left(\\theta \\right)} \\frac{d}{d r} g{\\left(r \\right)}}{2 g^{2}{\\left(r \\right)}} - \\frac{r \\sin^{2}{\\left(\\theta \\right)} \\frac{d}{d r} f{\\left(r \\right)}}{2 f{\\left(r \\right)} g{\\left(r \\right)}} + \\sin^{2}{\\left(\\theta \\right)} - \\frac{\\sin^{2}{\\left(\\theta \\right)}}{g{\\left(r \\right)}}$"
      ],
      "text/plain": [
       "     2    d               2    d                           \n",
       "r⋅sin (θ)⋅──(g(r))   r⋅sin (θ)⋅──(f(r))                2   \n",
       "          dr                   dr            2      sin (θ)\n",
       "────────────────── - ────────────────── + sin (θ) - ───────\n",
       "        2               2⋅f(r)⋅g(r)                   g(r) \n",
       "     2⋅g (r)                                               "
      ]
     },
     "metadata": {},
     "output_type": "display_data"
    }
   ],
   "source": [
    "eq1=expand(Ric[0,0])\n",
    "eq2=expand(Ric[1,1])\n",
    "eq3=expand(Ric[2,2])\n",
    "eq4=expand(Ric[3,3])\n",
    "\n",
    "display(eq1)\n",
    "display(eq2)\n",
    "display(eq3)\n",
    "display(eq4)"
   ]
  },
  {
   "cell_type": "code",
   "execution_count": 14,
   "metadata": {},
   "outputs": [
    {
     "data": {
      "image/png": "[encoded data removed]",
      "text/latex": [
       "$\\displaystyle \\frac{\\frac{d}{d r} g{\\left(r \\right)}}{r g{\\left(r \\right)}} + \\frac{\\frac{d}{d r} f{\\left(r \\right)}}{r f{\\left(r \\right)}}$"
      ],
      "text/plain": [
       "d          d       \n",
       "──(g(r))   ──(f(r))\n",
       "dr         dr      \n",
       "──────── + ────────\n",
       " r⋅g(r)     r⋅f(r) "
      ]
     },
     "execution_count": 14,
     "metadata": {},
     "output_type": "execute_result"
    }
   ],
   "source": [
    "expand(eq1*gFunc/fFunc+eq2)"
   ]
  },
  {
   "cell_type": "code",
   "execution_count": 15,
   "metadata": {},
   "outputs": [
    {
     "data": {
      "image/png": "[encoded data removed]",
      "text/latex": [
       "$\\displaystyle 1 - \\frac{r \\frac{d}{d r} f{\\left(r \\right)}}{2 K} - \\frac{f{\\left(r \\right)}}{K} + \\frac{r f^{2}{\\left(r \\right)} \\frac{\\partial}{\\partial r} \\frac{K}{f{\\left(r \\right)}}}{2 K^{2}}$"
      ],
      "text/plain": [
       "      d                    2    ∂ ⎛ K  ⎞\n",
       "    r⋅──(f(r))          r⋅f (r)⋅──⎜────⎟\n",
       "      dr         f(r)           ∂r⎝f(r)⎠\n",
       "1 - ────────── - ──── + ────────────────\n",
       "       2⋅K        K              2      \n",
       "                              2⋅K       "
      ]
     },
     "execution_count": 15,
     "metadata": {},
     "output_type": "execute_result"
    }
   ],
   "source": [
    "K=symbols('K')\n",
    "eq=expand(eq3.subs(gFunc,K/fFunc))\n",
    "eq"
   ]
  },
  {
   "cell_type": "code",
   "execution_count": 16,
   "metadata": {},
   "outputs": [
    {
     "data": {
      "image/png": "[encoded data removed]",
      "text/latex": [
       "$\\displaystyle f{\\left(r \\right)} = \\frac{C_{1}}{r} + K$"
      ],
      "text/plain": [
       "       C₁    \n",
       "f(r) = ── + K\n",
       "       r     "
      ]
     },
     "execution_count": 16,
     "metadata": {},
     "output_type": "execute_result"
    }
   ],
   "source": [
    "dsolve(eq)"
   ]
  },
  {
   "attachments": {},
   "cell_type": "markdown",
   "metadata": {},
   "source": [
    "# Spherical Symmetry with cosmological constant"
   ]
  },
  {
   "cell_type": "code",
   "execution_count": 78,
   "metadata": {},
   "outputs": [
    {
     "data": {
      "text/latex": [
       "$\\displaystyle \\left[\\begin{matrix}- f{\\left(r \\right)} & 0 & 0 & 0\\\\0 & g{\\left(r \\right)} & 0 & 0\\\\0 & 0 & r^{2} & 0\\\\0 & 0 & 0 & r^{2} \\sin^{2}{\\left(\\theta \\right)}\\end{matrix}\\right]$"
      ],
      "text/plain": [
       "⎡-f(r)   0    0       0     ⎤\n",
       "⎢                           ⎥\n",
       "⎢  0    g(r)  0       0     ⎥\n",
       "⎢                           ⎥\n",
       "⎢              2            ⎥\n",
       "⎢  0     0    r       0     ⎥\n",
       "⎢                           ⎥\n",
       "⎢                  2    2   ⎥\n",
       "⎣  0     0    0   r ⋅sin (θ)⎦"
      ]
     },
     "metadata": {},
     "output_type": "display_data"
    }
   ],
   "source": [
    "AdSRad=symbols('L')\n",
    "cosmos_const=-3/AdSRad**2\n",
    "\n",
    "t,r,th,phi=coords=symbols('t,r,theta,phi')\n",
    "fFunc=Function('f')(r)\n",
    "gFunc=Function('g')(r)\n",
    "df=diff(fFunc,r)\n",
    "dg=diff(gFunc,r)\n",
    "ddf=diff(fFunc,r,r)\n",
    "ddg=diff(gFunc,r,r)\n",
    "g=diag(-fFunc,gFunc,r**2,r**2*sin(th)**2)\n",
    "\n",
    "display(g)"
   ]
  },
  {
   "cell_type": "code",
   "execution_count": 79,
   "metadata": {},
   "outputs": [],
   "source": [
    "# spacial dim, g^mn, ∂_i g^mn\n",
    "ginv=g.inv()\n",
    "\n",
    "# Γ^k_ij=1/2 g^kl (∂_i g_jl+∂_j g_il-∂_l g_ij)\n",
    "dg=derive_by_array(g,coords)\n",
    "with contract_dest('kij'):\n",
    "    Gm=(contract('kl,ijl',ginv,dg)+contract('kl,jil',ginv,dg)-contract('kl,lij',ginv,dg))/2\n",
    "# display(Gm)\n",
    "\n",
    "# R^r_smn=∂m Γ^r_ns - ∂n Γ^r_ms +Γ^r_ml Γ^l_ns - Γ^r_nl Γ^l_ms\n",
    "dGm=derive_by_array(Gm,coords)\n",
    "with contract_dest('rsmn'):\n",
    "    Rie=contract('mrns',dGm)-contract('nrms',dGm)+contract('rml,lns',Gm,Gm)-contract('rnl,lms',Gm,Gm)\n",
    "\n",
    "\n",
    "# R_ij=R^r_irj\n",
    "with contract_dest('ij'):\n",
    "    Ric=contract('rirj',Rie)\n",
    "\n",
    "RicS=contract('ij,ij',Ric,ginv)\n",
    "RicS=expand(RicS)"
   ]
  },
  {
   "cell_type": "code",
   "execution_count": 80,
   "metadata": {},
   "outputs": [
    {
     "data": {
      "image/png": "[encoded data removed]",
      "text/latex": [
       "$\\displaystyle \\frac{f{\\left(r \\right)} \\frac{d}{d r} g{\\left(r \\right)}}{r g^{2}{\\left(r \\right)}} + \\frac{f{\\left(r \\right)}}{r^{2}} - \\frac{f{\\left(r \\right)}}{r^{2} g{\\left(r \\right)}} + \\frac{3 f{\\left(r \\right)}}{L^{2}}$"
      ],
      "text/plain": [
       "     d                                 \n",
       "f(r)⋅──(g(r))                          \n",
       "     dr         f(r)     f(r)    3⋅f(r)\n",
       "───────────── + ──── - ─────── + ──────\n",
       "      2           2     2           2  \n",
       "   r⋅g (r)       r     r ⋅g(r)     L   "
      ]
     },
     "metadata": {},
     "output_type": "display_data"
    },
    {
     "data": {
      "image/png": "[encoded data removed]",
      "text/latex": [
       "$\\displaystyle \\frac{\\frac{d}{d r} f{\\left(r \\right)}}{r f{\\left(r \\right)}} - \\frac{g{\\left(r \\right)}}{r^{2}} + \\frac{1}{r^{2}} - \\frac{3 g{\\left(r \\right)}}{L^{2}}$"
      ],
      "text/plain": [
       "d                            \n",
       "──(f(r))                     \n",
       "dr         g(r)   1    3⋅g(r)\n",
       "──────── - ──── + ── - ──────\n",
       " r⋅f(r)      2     2      2  \n",
       "            r     r      L   "
      ]
     },
     "metadata": {},
     "output_type": "display_data"
    },
    {
     "data": {
      "image/png": "[encoded data removed]",
      "text/latex": [
       "$\\displaystyle \\frac{r^{2} \\frac{d^{2}}{d r^{2}} f{\\left(r \\right)}}{2 f{\\left(r \\right)} g{\\left(r \\right)}} - \\frac{r^{2} \\frac{d}{d r} f{\\left(r \\right)} \\frac{d}{d r} g{\\left(r \\right)}}{4 f{\\left(r \\right)} g^{2}{\\left(r \\right)}} - \\frac{r^{2} \\left(\\frac{d}{d r} f{\\left(r \\right)}\\right)^{2}}{4 f^{2}{\\left(r \\right)} g{\\left(r \\right)}} - \\frac{r \\frac{d}{d r} g{\\left(r \\right)}}{2 g^{2}{\\left(r \\right)}} + \\frac{r \\frac{d}{d r} f{\\left(r \\right)}}{2 f{\\left(r \\right)} g{\\left(r \\right)}} - \\frac{3 r^{2}}{L^{2}}$"
      ],
      "text/plain": [
       "     2                                                                                \n",
       " 2  d                                              2                                  \n",
       "r ⋅───(f(r))    2 d        d           2 ⎛d       ⎞      d             d              \n",
       "     2         r ⋅──(f(r))⋅──(g(r))   r ⋅⎜──(f(r))⎟    r⋅──(g(r))    r⋅──(f(r))      2\n",
       "   dr             dr       dr            ⎝dr      ⎠      dr            dr         3⋅r \n",
       "──────────── - ──────────────────── - ────────────── - ────────── + ─────────── - ────\n",
       "2⋅f(r)⋅g(r)                2              2                2        2⋅f(r)⋅g(r)     2 \n",
       "                   4⋅f(r)⋅g (r)        4⋅f (r)⋅g(r)     2⋅g (r)                    L  "
      ]
     },
     "metadata": {},
     "output_type": "display_data"
    },
    {
     "data": {
      "image/png": "[encoded data removed]",
      "text/latex": [
       "$\\displaystyle \\frac{r^{2} \\sin^{2}{\\left(\\theta \\right)} \\frac{d^{2}}{d r^{2}} f{\\left(r \\right)}}{2 f{\\left(r \\right)} g{\\left(r \\right)}} - \\frac{r^{2} \\sin^{2}{\\left(\\theta \\right)} \\frac{d}{d r} f{\\left(r \\right)} \\frac{d}{d r} g{\\left(r \\right)}}{4 f{\\left(r \\right)} g^{2}{\\left(r \\right)}} - \\frac{r^{2} \\sin^{2}{\\left(\\theta \\right)} \\left(\\frac{d}{d r} f{\\left(r \\right)}\\right)^{2}}{4 f^{2}{\\left(r \\right)} g{\\left(r \\right)}} - \\frac{r \\sin^{2}{\\left(\\theta \\right)} \\frac{d}{d r} g{\\left(r \\right)}}{2 g^{2}{\\left(r \\right)}} + \\frac{r \\sin^{2}{\\left(\\theta \\right)} \\frac{d}{d r} f{\\left(r \\right)}}{2 f{\\left(r \\right)} g{\\left(r \\right)}} - \\frac{3 r^{2} \\sin^{2}{\\left(\\theta \\right)}}{L^{2}}$"
      ],
      "text/plain": [
       "             2                                                                                                        \n",
       " 2    2     d                                                              2                                          \n",
       "r ⋅sin (θ)⋅───(f(r))    2    2    d        d           2    2    ⎛d       ⎞         2    d               2    d       \n",
       "             2         r ⋅sin (θ)⋅──(f(r))⋅──(g(r))   r ⋅sin (θ)⋅⎜──(f(r))⎟    r⋅sin (θ)⋅──(g(r))   r⋅sin (θ)⋅──(f(r))\n",
       "           dr                     dr       dr                    ⎝dr      ⎠              dr                   dr      \n",
       "──────────────────── - ──────────────────────────── - ────────────────────── - ────────────────── + ──────────────────\n",
       "    2⋅f(r)⋅g(r)                        2                      2                        2               2⋅f(r)⋅g(r)    \n",
       "                               4⋅f(r)⋅g (r)                4⋅f (r)⋅g(r)             2⋅g (r)                           \n",
       "\n",
       "               \n",
       "               \n",
       "               \n",
       "      2    2   \n",
       "   3⋅r ⋅sin (θ)\n",
       " - ────────────\n",
       "         2     \n",
       "        L      "
      ]
     },
     "metadata": {},
     "output_type": "display_data"
    }
   ],
   "source": [
    "# R_ij-1/2 g_ij R + Λ g_ij=0\n",
    "\n",
    "eqT=Ric+Array(g)*(cosmos_const-RicS/2)\n",
    "\n",
    "eq1=expand(eqT[0,0])\n",
    "eq2=expand(eqT[1,1])\n",
    "eq3=expand(eqT[2,2])\n",
    "eq4=expand(eqT[3,3])\n",
    "\n",
    "display(eq1)\n",
    "display(eq2)\n",
    "display(eq3)\n",
    "display(eq4)"
   ]
  },
  {
   "cell_type": "code",
   "execution_count": 81,
   "metadata": {},
   "outputs": [
    {
     "data": {
      "image/png": "[encoded data removed]",
      "text/latex": [
       "$\\displaystyle \\frac{\\frac{d}{d r} g{\\left(r \\right)}}{r g{\\left(r \\right)}} + \\frac{\\frac{d}{d r} f{\\left(r \\right)}}{r f{\\left(r \\right)}}$"
      ],
      "text/plain": [
       "d          d       \n",
       "──(g(r))   ──(f(r))\n",
       "dr         dr      \n",
       "──────── + ────────\n",
       " r⋅g(r)     r⋅f(r) "
      ]
     },
     "execution_count": 81,
     "metadata": {},
     "output_type": "execute_result"
    }
   ],
   "source": [
    "expand(eq1*gFunc/fFunc+eq2)\n"
   ]
  },
  {
   "cell_type": "code",
   "execution_count": 82,
   "metadata": {},
   "outputs": [
    {
     "data": {
      "image/png": "[encoded data removed]",
      "text/latex": [
       "$\\displaystyle - \\frac{K}{r^{2} f{\\left(r \\right)}} - \\frac{3 K}{L^{2} f{\\left(r \\right)}} + \\frac{\\frac{d}{d r} f{\\left(r \\right)}}{r f{\\left(r \\right)}} + \\frac{1}{r^{2}}$"
      ],
      "text/plain": [
       "                      d            \n",
       "                      ──(f(r))     \n",
       "     K        3⋅K     dr         1 \n",
       "- ─────── - ─────── + ──────── + ──\n",
       "   2         2         r⋅f(r)     2\n",
       "  r ⋅f(r)   L ⋅f(r)              r "
      ]
     },
     "execution_count": 82,
     "metadata": {},
     "output_type": "execute_result"
    }
   ],
   "source": [
    "K=symbols('K')\n",
    "eq=expand(eq2.subs(gFunc,K/fFunc))\n",
    "eq"
   ]
  },
  {
   "cell_type": "code",
   "execution_count": 83,
   "metadata": {},
   "outputs": [
    {
     "data": {
      "image/png": "[encoded data removed]",
      "text/latex": [
       "$\\displaystyle f{\\left(r \\right)} = \\frac{C_{1}}{r} + K + \\frac{K r^{2}}{L^{2}}$"
      ],
      "text/plain": [
       "                   2\n",
       "       C₁       K⋅r \n",
       "f(r) = ── + K + ────\n",
       "       r          2 \n",
       "                 L  "
      ]
     },
     "execution_count": 83,
     "metadata": {},
     "output_type": "execute_result"
    }
   ],
   "source": [
    "dsolve(eq)"
   ]
  },
  {
   "attachments": {},
   "cell_type": "markdown",
   "metadata": {},
   "source": [
    "# Planar Symmetry with some cosmological constant"
   ]
  },
  {
   "cell_type": "code",
   "execution_count": 108,
   "metadata": {},
   "outputs": [
    {
     "data": {
      "text/latex": [
       "$\\displaystyle \\left[\\begin{matrix}- e^{f{\\left(\\eta \\right)}} & 0 & 0 & 0\\\\0 & 1 & 0 & 0\\\\0 & 0 & e^{f{\\left(\\eta \\right)}} & 0\\\\0 & 0 & 0 & e^{f{\\left(\\eta \\right)}}\\end{matrix}\\right]$"
      ],
      "text/plain": [
       "⎡  f(η)                 ⎤\n",
       "⎢-ℯ      0    0      0  ⎥\n",
       "⎢                       ⎥\n",
       "⎢  0     1    0      0  ⎥\n",
       "⎢                       ⎥\n",
       "⎢            f(η)       ⎥\n",
       "⎢  0     0  ℯ        0  ⎥\n",
       "⎢                       ⎥\n",
       "⎢                   f(η)⎥\n",
       "⎣  0     0    0    ℯ    ⎦"
      ]
     },
     "metadata": {},
     "output_type": "display_data"
    }
   ],
   "source": [
    "AdSRad=symbols('L')\n",
    "cosmos_const=-3/AdSRad**2\n",
    "\n",
    "t,eta,x,y=coords=symbols('t,eta,x,y')\n",
    "fFunc=Function('f')(eta)\n",
    "gFunc=Function('g')(eta)\n",
    "g=diag(-exp(fFunc),1,exp(fFunc),exp(fFunc))\n",
    "\n",
    "display(g)"
   ]
  },
  {
   "cell_type": "code",
   "execution_count": 109,
   "metadata": {},
   "outputs": [],
   "source": [
    "ginv=g.inv()\n",
    "\n",
    "\n",
    "# Γ^k_ij=1/2 g^kl (∂_i g_jl+∂_j g_il-∂_l g_ij)\n",
    "dg=derive_by_array(g,coords)\n",
    "with contract_dest('kij'):\n",
    "    Gm=(contract('kl,ijl',ginv,dg)+contract('kl,jil',ginv,dg)-contract('kl,lij',ginv,dg))/2\n",
    "# display(Gm)\n",
    "\n",
    "\n",
    "# R^r_smn=∂m Γ^r_ns - ∂n Γ^r_ms +Γ^r_ml Γ^l_ns - Γ^r_nl Γ^l_ms\n",
    "dGm=derive_by_array(Gm,coords)\n",
    "with contract_dest('rsmn'):\n",
    "    Rie=contract('mrns',dGm)-contract('nrms',dGm)+contract('rml,lns',Gm,Gm)-contract('rnl,lms',Gm,Gm)\n",
    "\n",
    "\n",
    "# R_ij=R^r_irj\n",
    "with contract_dest('ij'):\n",
    "    Ric=contract('rirj',Rie)\n",
    "\n",
    "RicS=contract('ij,ij',Ric,ginv)\n",
    "RicS=expand(RicS)"
   ]
  },
  {
   "cell_type": "code",
   "execution_count": 110,
   "metadata": {},
   "outputs": [
    {
     "data": {
      "image/png": "[encoded data removed]",
      "text/latex": [
       "$\\displaystyle - \\frac{3 e^{f{\\left(\\eta \\right)}} \\left(\\frac{d}{d \\eta} f{\\left(\\eta \\right)}\\right)^{2}}{4} - e^{f{\\left(\\eta \\right)}} \\frac{d^{2}}{d \\eta^{2}} f{\\left(\\eta \\right)} + \\frac{3 e^{f{\\left(\\eta \\right)}}}{L^{2}}$"
      ],
      "text/plain": [
       "                    2                            \n",
       "     f(η) ⎛d       ⎞                             \n",
       "  3⋅ℯ    ⋅⎜──(f(η))⎟            2            f(η)\n",
       "          ⎝dη      ⎠     f(η)  d          3⋅ℯ    \n",
       "- ─────────────────── - ℯ    ⋅───(f(η)) + ───────\n",
       "           4                    2             2  \n",
       "                              dη             L   "
      ]
     },
     "metadata": {},
     "output_type": "display_data"
    },
    {
     "data": {
      "image/png": "[encoded data removed]",
      "text/latex": [
       "$\\displaystyle \\frac{3 \\left(\\frac{d}{d \\eta} f{\\left(\\eta \\right)}\\right)^{2}}{4} - \\frac{3}{L^{2}}$"
      ],
      "text/plain": [
       "            2     \n",
       "  ⎛d       ⎞      \n",
       "3⋅⎜──(f(η))⎟      \n",
       "  ⎝dη      ⎠    3 \n",
       "───────────── - ──\n",
       "      4          2\n",
       "                L "
      ]
     },
     "metadata": {},
     "output_type": "display_data"
    },
    {
     "data": {
      "image/png": "[encoded data removed]",
      "text/latex": [
       "$\\displaystyle \\frac{3 e^{f{\\left(\\eta \\right)}} \\left(\\frac{d}{d \\eta} f{\\left(\\eta \\right)}\\right)^{2}}{4} + e^{f{\\left(\\eta \\right)}} \\frac{d^{2}}{d \\eta^{2}} f{\\left(\\eta \\right)} - \\frac{3 e^{f{\\left(\\eta \\right)}}}{L^{2}}$"
      ],
      "text/plain": [
       "                  2                            \n",
       "   f(η) ⎛d       ⎞                             \n",
       "3⋅ℯ    ⋅⎜──(f(η))⎟            2            f(η)\n",
       "        ⎝dη      ⎠     f(η)  d          3⋅ℯ    \n",
       "─────────────────── + ℯ    ⋅───(f(η)) - ───────\n",
       "         4                    2             2  \n",
       "                            dη             L   "
      ]
     },
     "metadata": {},
     "output_type": "display_data"
    },
    {
     "data": {
      "image/png": "[encoded data removed]",
      "text/latex": [
       "$\\displaystyle \\frac{3 e^{f{\\left(\\eta \\right)}} \\left(\\frac{d}{d \\eta} f{\\left(\\eta \\right)}\\right)^{2}}{4} + e^{f{\\left(\\eta \\right)}} \\frac{d^{2}}{d \\eta^{2}} f{\\left(\\eta \\right)} - \\frac{3 e^{f{\\left(\\eta \\right)}}}{L^{2}}$"
      ],
      "text/plain": [
       "                  2                            \n",
       "   f(η) ⎛d       ⎞                             \n",
       "3⋅ℯ    ⋅⎜──(f(η))⎟            2            f(η)\n",
       "        ⎝dη      ⎠     f(η)  d          3⋅ℯ    \n",
       "─────────────────── + ℯ    ⋅───(f(η)) - ───────\n",
       "         4                    2             2  \n",
       "                            dη             L   "
      ]
     },
     "metadata": {},
     "output_type": "display_data"
    }
   ],
   "source": [
    "# R_ij-1/2 g_ij R + Λ g_ij=0\n",
    "\n",
    "eqT=Ric+Array(g)*(cosmos_const-RicS/2)\n",
    "\n",
    "eq1=expand(eqT[0,0])\n",
    "eq2=expand(eqT[1,1])\n",
    "eq3=expand(eqT[2,2])\n",
    "eq4=expand(eqT[3,3])\n",
    "\n",
    "display(eq1)\n",
    "display(eq2)\n",
    "display(eq3)\n",
    "display(eq4)"
   ]
  },
  {
   "cell_type": "code",
   "execution_count": 120,
   "metadata": {},
   "outputs": [
    {
     "data": {
      "image/png": "[encoded data removed]",
      "text/latex": [
       "$\\displaystyle f{\\left(\\eta \\right)} = C_{1} + \\frac{2 \\eta}{L}$"
      ],
      "text/plain": [
       "            2⋅η\n",
       "f(η) = C₁ + ───\n",
       "             L "
      ]
     },
     "metadata": {},
     "output_type": "display_data"
    },
    {
     "data": {
      "image/png": "[encoded data removed]",
      "text/latex": [
       "$\\displaystyle f{\\left(\\eta \\right)} = C_{1} - \\frac{2 \\eta}{L}$"
      ],
      "text/plain": [
       "            2⋅η\n",
       "f(η) = C₁ - ───\n",
       "             L "
      ]
     },
     "metadata": {},
     "output_type": "display_data"
    }
   ],
   "source": [
    "fsubs1,fsubs2=dsolve(eq2)\n",
    "display(fsubs1,fsubs2)"
   ]
  },
  {
   "cell_type": "code",
   "execution_count": 112,
   "metadata": {},
   "outputs": [
    {
     "data": {
      "image/png": "[encoded data removed]",
      "text/latex": [
       "$\\displaystyle 0$"
      ],
      "text/plain": [
       "0"
      ]
     },
     "metadata": {},
     "output_type": "display_data"
    },
    {
     "data": {
      "image/png": "[encoded data removed]",
      "text/latex": [
       "$\\displaystyle 0$"
      ],
      "text/plain": [
       "0"
      ]
     },
     "metadata": {},
     "output_type": "display_data"
    },
    {
     "data": {
      "image/png": "[encoded data removed]",
      "text/latex": [
       "$\\displaystyle 0$"
      ],
      "text/plain": [
       "0"
      ]
     },
     "metadata": {},
     "output_type": "display_data"
    },
    {
     "data": {
      "image/png": "[encoded data removed]",
      "text/latex": [
       "$\\displaystyle 0$"
      ],
      "text/plain": [
       "0"
      ]
     },
     "metadata": {},
     "output_type": "display_data"
    }
   ],
   "source": [
    "display(eq1.subs(fFunc,fsubs1.rhs).doit())\n",
    "display(eq2.subs(fFunc,fsubs1.rhs).doit())\n",
    "display(eq3.subs(fFunc,fsubs1.rhs).doit())\n",
    "display(eq4.subs(fFunc,fsubs1.rhs).doit())"
   ]
  },
  {
   "cell_type": "code",
   "execution_count": 118,
   "metadata": {},
   "outputs": [
    {
     "data": {
      "text/latex": [
       "$\\displaystyle \\left[\\begin{matrix}- e^{C_{1} + \\frac{2 \\eta}{L}} & 0 & 0 & 0\\\\0 & 1 & 0 & 0\\\\0 & 0 & e^{C_{1} + \\frac{2 \\eta}{L}} & 0\\\\0 & 0 & 0 & e^{C_{1} + \\frac{2 \\eta}{L}}\\end{matrix}\\right]$"
      ],
      "text/plain": [
       "⎡       2⋅η                         ⎤\n",
       "⎢  C₁ + ───                         ⎥\n",
       "⎢        L                          ⎥\n",
       "⎢-ℯ          0      0          0    ⎥\n",
       "⎢                                   ⎥\n",
       "⎢    0       1      0          0    ⎥\n",
       "⎢                                   ⎥\n",
       "⎢                     2⋅η           ⎥\n",
       "⎢                C₁ + ───           ⎥\n",
       "⎢                      L            ⎥\n",
       "⎢    0       0  ℯ              0    ⎥\n",
       "⎢                                   ⎥\n",
       "⎢                                2⋅η⎥\n",
       "⎢                           C₁ + ───⎥\n",
       "⎢                                 L ⎥\n",
       "⎣    0       0      0      ℯ        ⎦"
      ]
     },
     "metadata": {},
     "output_type": "display_data"
    },
    {
     "data": {
      "text/latex": [
       "$\\displaystyle \\left[\\begin{matrix}\\frac{3 e^{C_{1} + \\frac{2 \\eta}{L}}}{L^{2}} & 0 & 0 & 0\\\\0 & - \\frac{3}{L^{2}} & 0 & 0\\\\0 & 0 & - \\frac{3 e^{C_{1} + \\frac{2 \\eta}{L}}}{L^{2}} & 0\\\\0 & 0 & 0 & - \\frac{3 e^{C_{1} + \\frac{2 \\eta}{L}}}{L^{2}}\\end{matrix}\\right]$"
      ],
      "text/plain": [
       "⎡        2⋅η                                   ⎤\n",
       "⎢   C₁ + ───                                   ⎥\n",
       "⎢         L                                    ⎥\n",
       "⎢3⋅ℯ                                           ⎥\n",
       "⎢───────────   0         0              0      ⎥\n",
       "⎢      2                                       ⎥\n",
       "⎢     L                                        ⎥\n",
       "⎢                                              ⎥\n",
       "⎢             -3                               ⎥\n",
       "⎢     0       ───        0              0      ⎥\n",
       "⎢               2                              ⎥\n",
       "⎢              L                               ⎥\n",
       "⎢                                              ⎥\n",
       "⎢                           2⋅η                ⎥\n",
       "⎢                      C₁ + ───                ⎥\n",
       "⎢                            L                 ⎥\n",
       "⎢                  -3⋅ℯ                        ⎥\n",
       "⎢     0        0   ─────────────        0      ⎥\n",
       "⎢                         2                    ⎥\n",
       "⎢                        L                     ⎥\n",
       "⎢                                              ⎥\n",
       "⎢                                          2⋅η ⎥\n",
       "⎢                                     C₁ + ─── ⎥\n",
       "⎢                                           L  ⎥\n",
       "⎢                                 -3⋅ℯ         ⎥\n",
       "⎢     0        0         0        ─────────────⎥\n",
       "⎢                                        2     ⎥\n",
       "⎣                                       L      ⎦"
      ]
     },
     "metadata": {},
     "output_type": "display_data"
    },
    {
     "data": {
      "image/png": "[encoded data removed]",
      "text/latex": [
       "$\\displaystyle - \\frac{12}{L^{2}}$"
      ],
      "text/plain": [
       "-12 \n",
       "────\n",
       "  2 \n",
       " L  "
      ]
     },
     "metadata": {},
     "output_type": "display_data"
    }
   ],
   "source": [
    "display(g.subs(fFunc,fsubs1.rhs).doit())\n",
    "display(Ric.subs(fFunc,fsubs1.rhs).doit())\n",
    "display(RicS.subs(fFunc,fsubs1.rhs).doit())"
   ]
  },
  {
   "cell_type": "code",
   "execution_count": null,
   "metadata": {},
   "outputs": [],
   "source": []
  }
 ],
 "metadata": {
  "kernelspec": {
   "display_name": "tf-gpu",
   "language": "python",
   "name": "tf-gpu"
  },
  "language_info": {
   "codemirror_mode": {
    "name": "ipython",
    "version": 3
   },
   "file_extension": ".py",
   "mimetype": "text/x-python",
   "name": "python",
   "nbconvert_exporter": "python",
   "pygments_lexer": "ipython3",
   "version": "3.9.15"
  },
  "orig_nbformat": 4
 },
 "nbformat": 4,
 "nbformat_minor": 2
}
