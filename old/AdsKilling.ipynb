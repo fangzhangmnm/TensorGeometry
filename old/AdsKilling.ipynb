{
 "cells": [
  {
   "cell_type": "code",
   "execution_count": 89,
   "metadata": {},
   "outputs": [],
   "source": [
    "from sympy import *\n",
    "import sympy as sp\n",
    "from opt_einsum import contract as _contract\n",
    "import numpy as np\n",
    "from dataclasses import dataclass\n",
    "\n",
    "def contract(expr,*tensors,**args):\n",
    "    if contract.dest is not None:\n",
    "        expr+='->'+contract.dest\n",
    "    rtval= _contract(expr,*tensors, backend='object',**args)\n",
    "    return rtval.item() if rtval.shape==() else Array(rtval)\n",
    "class contract_dest:\n",
    "    def __init__(self, dest):\n",
    "        self.dest= dest\n",
    "    def __enter__(self):\n",
    "        contract.dest,self.dest= self.dest,contract.dest\n",
    "    def __exit__(self, *args):\n",
    "        contract.dest= self.dest\n",
    "contract.dest=None"
   ]
  },
  {
   "cell_type": "code",
   "execution_count": 289,
   "metadata": {},
   "outputs": [],
   "source": [
    "\n",
    "\n",
    "class CoordinateTransformation:\n",
    "    def __init__(self,coords1:list,coords2:list,coords2_in_1:dict,coords1_in_2:dict=None):\n",
    "        self.coords1=coords1\n",
    "        self.coords2=coords2\n",
    "        self.coords2_in_1=coords2_in_1\n",
    "        if coords1_in_2 is None:\n",
    "            subs1_in_2=solve([a-b for a,b in coords2_in_1.items()],coords1,dict=True)\n",
    "            coords1_in_2={x:x for x in coords1}\n",
    "            print('try to solve for coords1_in_2')\n",
    "            print(subs1_in_2)\n",
    "            if len(subs1_in_2)>1:\n",
    "                print('Warning: more than one solution found, use the first one')\n",
    "            coords1_in_2.update(subs1_in_2[0])\n",
    "        self.coords1_in_2=coords1_in_2\n",
    "        self.jacobi=Matrix(together(derive_by_array(Array(coords2).subs(coords2_in_1),coords1))).T\n",
    "        self.jacobi_inv=Matrix(together(derive_by_array(Array(coords1).subs(coords1_in_2),coords2))).T\n",
    "    def transform(self,tensor,indice_positions='',inverse=False):\n",
    "        if not inverse:\n",
    "            jacobi,jacobi_inv,subs=self.jacobi,self.jacobi_inv,self.coords1_in_2\n",
    "        else:\n",
    "            jacobi,jacobi_inv,subs=self.jacobi_inv,self.jacobi,self.coords2_in_1\n",
    "        for i,ind in enumerate(indice_positions):\n",
    "            if ind=='u':\n",
    "                # V^M=J^M_u v^u\n",
    "                tensor=np.swapaxes(contract('Mu,u...->M...',jacobi,np.swapaxes(tensor,0,i)),0,i)\n",
    "            elif ind=='d':\n",
    "                # V_M=v_u (J^-1)^u_M\n",
    "                tensor=np.swapaxes(contract('uM,u...->M...',jacobi_inv,np.swapaxes(tensor,0,i)),0,i)\n",
    "        if isinstance(tensor,np.ndarray):\n",
    "            tensor=Array(tensor)\n",
    "        tensor=tensor.subs(subs)\n",
    "        tensor=together(tensor)\n",
    "        return tensor\n",
    "    def inverse_transform(self,*args,**kwargs):\n",
    "        return self.transform(*args,inverse=True,**kwargs)"
   ]
  },
  {
   "cell_type": "code",
   "execution_count": 290,
   "metadata": {},
   "outputs": [
    {
     "data": {
      "text/latex": [
       "$\\displaystyle \\left[\\begin{matrix}1 & 0 & 0\\\\0 & 1 & 0\\\\0 & 0 & 1\\end{matrix}\\right]$"
      ],
      "text/plain": [
       "Matrix([\n",
       "[1, 0, 0],\n",
       "[0, 1, 0],\n",
       "[0, 0, 1]])"
      ]
     },
     "metadata": {},
     "output_type": "display_data"
    },
    {
     "data": {
      "text/latex": [
       "$\\displaystyle \\left|{r}\\right|$"
      ],
      "text/plain": [
       "Abs(r)"
      ]
     },
     "metadata": {},
     "output_type": "display_data"
    }
   ],
   "source": [
    "r,theta,phi=coords1=sp.symbols('r theta phi',real=True)\n",
    "x,y,z=coords2=sp.symbols('x y z',real=True)\n",
    "coords2_in_1={x:r*sp.sin(theta)*sp.cos(phi),y:r*sp.sin(theta)*sp.sin(phi),z:r*sp.cos(theta)}\n",
    "coords1_in_2={r:sp.sqrt(x**2+y**2+z**2),theta:sp.acos(z/sp.sqrt(x**2+y**2+z**2)),phi:sp.atan2(y,x)}\n",
    "transf=CoordinateTransformation(coords1,coords2,coords2_in_1,coords1_in_2)\n",
    "\n",
    "display(simplify((transf.jacobi@transf.jacobi_inv).subs(transf.coords1_in_2)))\n",
    "display(simplify(transf.inverse_transform(transf.transform(r))))"
   ]
  },
  {
   "cell_type": "code",
   "execution_count": 302,
   "metadata": {},
   "outputs": [],
   "source": [
    "def get_lie_derivative(coords):\n",
    "    def lie_derivative(f,X,indice_positions=''):\n",
    "        dX=derive_by_array(X,coords)\n",
    "        # L_X f = X^u \\partial_u f\n",
    "        rtval=contract('i,i...->...',X,derive_by_array(f,coords))\n",
    "        for i,ind in enumerate(indice_positions):\n",
    "            if ind=='u':\n",
    "                # L_X f^u -= (∂_v X^u) f^v\n",
    "                rtval-=np.swapaxes(contract('vu,v...->u...',dX,np.swapaxes(f,0,i)),0,i)\n",
    "            elif ind=='d':\n",
    "                # L_X f_u += (∂_u X^v) f_v\n",
    "                rtval+=np.swapaxes(contract('uv,v...->u...',dX,np.swapaxes(f,0,i)),0,i)\n",
    "        if isinstance(rtval,np.ndarray):\n",
    "            rtval=Array(rtval)\n",
    "        return together(rtval)\n",
    "    def lie_bracket(X,Y):\n",
    "        return lie_derivative(Y,X,'u')\n",
    "    return lie_derivative,lie_bracket"
   ]
  },
  {
   "cell_type": "code",
   "execution_count": 305,
   "metadata": {},
   "outputs": [
    {
     "data": {
      "text/latex": [
       "$\\displaystyle \\left[\\begin{matrix}- f{\\left(r \\right)} & 0 & 0 & 0\\\\0 & \\frac{1}{f{\\left(r \\right)}} & 0 & 0\\\\0 & 0 & r^{2} & 0\\\\0 & 0 & 0 & r^{2} \\sin^{2}{\\left(\\theta \\right)}\\end{matrix}\\right]$"
      ],
      "text/plain": [
       "Matrix([\n",
       "[-f(r),      0,    0,                  0],\n",
       "[    0, 1/f(r),    0,                  0],\n",
       "[    0,      0, r**2,                  0],\n",
       "[    0,      0,    0, r**2*sin(theta)**2]])"
      ]
     },
     "metadata": {},
     "output_type": "display_data"
    },
    {
     "data": {
      "text/latex": [
       "$\\displaystyle \\left[\\begin{matrix}0 & 0 & 0 & 0\\\\0 & 0 & 0 & 0\\\\0 & 0 & 0 & 0\\\\0 & 0 & 0 & 0\\end{matrix}\\right]$"
      ],
      "text/plain": [
       "[[0, 0, 0, 0], [0, 0, 0, 0], [0, 0, 0, 0], [0, 0, 0, 0]]"
      ]
     },
     "metadata": {},
     "output_type": "display_data"
    },
    {
     "data": {
      "text/latex": [
       "$\\displaystyle \\left[\\begin{matrix}0 & 0 & 0 & 0\\\\0 & 0 & 0 & 0\\\\0 & 0 & 0 & 0\\\\0 & 0 & 0 & 0\\end{matrix}\\right]$"
      ],
      "text/plain": [
       "[[0, 0, 0, 0], [0, 0, 0, 0], [0, 0, 0, 0], [0, 0, 0, 0]]"
      ]
     },
     "metadata": {},
     "output_type": "display_data"
    },
    {
     "data": {
      "text/latex": [
       "$\\displaystyle \\left[\\begin{matrix}0 & 0 & 0 & 0\\\\0 & 0 & 0 & 0\\\\0 & 0 & 0 & 0\\\\0 & 0 & 0 & 0\\end{matrix}\\right]$"
      ],
      "text/plain": [
       "[[0, 0, 0, 0], [0, 0, 0, 0], [0, 0, 0, 0], [0, 0, 0, 0]]"
      ]
     },
     "metadata": {},
     "output_type": "display_data"
    },
    {
     "data": {
      "text/latex": [
       "$\\displaystyle \\left[\\begin{matrix}0 & 0 & 0 & 0\\\\0 & 0 & 0 & 0\\\\0 & 0 & 0 & 0\\\\0 & 0 & 0 & 0\\end{matrix}\\right]$"
      ],
      "text/plain": [
       "[[0, 0, 0, 0], [0, 0, 0, 0], [0, 0, 0, 0], [0, 0, 0, 0]]"
      ]
     },
     "metadata": {},
     "output_type": "display_data"
    }
   ],
   "source": [
    "t,r,th,phi=coords=symbols('t,r,theta,phi')\n",
    "f=Function('f')(r)\n",
    "g=diag(-f,1/f,r**2,r**2*sin(th)**2)\n",
    "\n",
    "display(g)\n",
    "lie_derivative,lie_bracket=get_lie_derivative(coords)\n",
    "display(lie_derivative(g,Array([1,0,0,0]),'dd'))\n",
    "display(lie_derivative(g,Array([0,0,0,1]),'dd'))\n",
    "display(trigsimp(lie_derivative(g,Array([0,0,sin(phi),cot(th)*cos(phi)]),'dd')))\n",
    "display(trigsimp(lie_derivative(g,Array([0,0,cos(phi),-cot(th)*sin(phi)]),'dd')))"
   ]
  },
  {
   "cell_type": "code",
   "execution_count": 306,
   "metadata": {},
   "outputs": [
    {
     "name": "stdout",
     "output_type": "stream",
     "text": [
      "try to solve for coords1_in_2\n",
      "[{t: u + v, phi: u - v}]\n"
     ]
    },
    {
     "data": {
      "text/latex": [
       "$\\displaystyle \\left[\\begin{matrix}l^{2} & 0 & 0\\\\0 & - \\frac{l^{2} e^{2 \\rho}}{4} & 0\\\\0 & 0 & \\frac{l^{2} e^{2 \\rho}}{4}\\end{matrix}\\right]$"
      ],
      "text/plain": [
       "Matrix([\n",
       "[l**2,                  0,                 0],\n",
       "[   0, -l**2*exp(2*rho)/4,                 0],\n",
       "[   0,                  0, l**2*exp(2*rho)/4]])"
      ]
     },
     "metadata": {},
     "output_type": "display_data"
    },
    {
     "data": {
      "text/latex": [
       "$\\displaystyle \\left[\\begin{matrix}0 & - \\frac{l^{2} e^{2 \\rho}}{2} & 0\\\\- \\frac{l^{2} e^{2 \\rho}}{2} & 0 & 0\\\\0 & 0 & l^{2}\\end{matrix}\\right]$"
      ],
      "text/plain": [
       "[[0, -l**2*exp(2*rho)/2, 0], [-l**2*exp(2*rho)/2, 0, 0], [0, 0, l**2]]"
      ]
     },
     "metadata": {},
     "output_type": "display_data"
    }
   ],
   "source": [
    "\n",
    "coords=u,v,rho=sp.symbols('u,v,rho',real=True)\n",
    "\n",
    "coords0=rho,t,phi=sp.symbols('rho,t,phi',real=True)\n",
    "transf={u:(t+phi)/2,v:(t-phi)/2,rho:rho}\n",
    "transf=CoordinateTransformation(coords0,coords,transf)\n",
    "\n",
    "AdSRad=symbols('l')\n",
    "g=AdSRad**2*diag(1,-exp(2*rho)/4,exp(2*rho)/4)\n",
    "display(g)\n",
    "g=transf.transform(g,'dd')\n",
    "display(g)"
   ]
  },
  {
   "cell_type": "code",
   "execution_count": 307,
   "metadata": {},
   "outputs": [
    {
     "data": {
      "text/latex": [
       "$\\displaystyle \\left[\\begin{matrix}- \\left(m - n\\right) e^{i m u} e^{i n u} & \\frac{\\left(m - n\\right) \\left(m + n\\right)^{2} e^{- 2 \\rho} e^{i m u} e^{i n u}}{2} & \\frac{i \\left(m - n\\right) \\left(m + n\\right) e^{i m u} e^{i n u}}{2}\\end{matrix}\\right]$"
      ],
      "text/plain": [
       "[-(m - n)*exp(I*m*u)*exp(I*n*u), (m - n)*(m + n)**2*exp(-2*rho)*exp(I*m*u)*exp(I*n*u)/2, I*(m - n)*(m + n)*exp(I*m*u)*exp(I*n*u)/2]"
      ]
     },
     "metadata": {},
     "output_type": "display_data"
    },
    {
     "data": {
      "text/latex": [
       "$\\displaystyle \\left[\\begin{matrix}- \\left(m - n\\right) e^{i m u} e^{i n u} & \\frac{\\left(m - n\\right) \\left(m + n\\right)^{2} e^{- 2 \\rho} e^{i m u} e^{i n u}}{2} & \\frac{i \\left(m - n\\right) \\left(m + n\\right) e^{i m u} e^{i n u}}{2}\\end{matrix}\\right]$"
      ],
      "text/plain": [
       "[-(m - n)*exp(I*m*u)*exp(I*n*u), (m - n)*(m + n)**2*exp(-2*rho)*exp(I*m*u)*exp(I*n*u)/2, I*(m - n)*(m + n)*exp(I*m*u)*exp(I*n*u)/2]"
      ]
     },
     "metadata": {},
     "output_type": "display_data"
    }
   ],
   "source": [
    "m,n=symbols('m n',integer=True)\n",
    "\n",
    "def get_zeta(n):\n",
    "    return exp(I*n*u)*Array([1,-Rational(1,2)*n**2*exp(-2*rho),-I*n/2])\n",
    "\n",
    "\n",
    "lie_derivative,lie_bracket=get_lie_derivative(coords)\n",
    "\n",
    "display(factor(I*lie_bracket(get_zeta(n),get_zeta(m))))\n",
    "display(factor((n-m)*get_zeta(n+m)))"
   ]
  },
  {
   "cell_type": "code",
   "execution_count": 308,
   "metadata": {},
   "outputs": [
    {
     "data": {
      "text/latex": [
       "$\\displaystyle \\left[\\begin{matrix}\\frac{i l^{2} n^{3} e^{i n u}}{2} & 0 & 0\\\\0 & 0 & 0\\\\0 & 0 & 0\\end{matrix}\\right]$"
      ],
      "text/plain": [
       "[[I*l**2*n**3*exp(I*n*u)/2, 0, 0], [0, 0, 0], [0, 0, 0]]"
      ]
     },
     "metadata": {},
     "output_type": "display_data"
    }
   ],
   "source": [
    "dzndg=lie_derivative(g,get_zeta(n),'dd')\n",
    "display(dzndg)"
   ]
  },
  {
   "cell_type": "code",
   "execution_count": null,
   "metadata": {},
   "outputs": [],
   "source": []
  }
 ],
 "metadata": {
  "kernelspec": {
   "display_name": "tf-gpu",
   "language": "python",
   "name": "tf-gpu"
  },
  "language_info": {
   "codemirror_mode": {
    "name": "ipython",
    "version": 3
   },
   "file_extension": ".py",
   "mimetype": "text/x-python",
   "name": "python",
   "nbconvert_exporter": "python",
   "pygments_lexer": "ipython3",
   "version": "3.9.15"
  },
  "orig_nbformat": 4
 },
 "nbformat": 4,
 "nbformat_minor": 2
}
