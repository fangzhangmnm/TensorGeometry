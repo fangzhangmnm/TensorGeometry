{
 "cells": [
  {
   "cell_type": "code",
   "execution_count": 2,
   "metadata": {},
   "outputs": [],
   "source": [
    "from sympy import *\n",
    "import sympy as sp\n",
    "from opt_einsum import contract as _contract\n",
    "import numpy as np\n",
    "\n",
    "import importlib\n",
    "import symGR\n",
    "importlib.reload(symGR) \n",
    "from symGR import *\n"
   ]
  },
  {
   "cell_type": "code",
   "execution_count": 3,
   "metadata": {},
   "outputs": [
    {
     "data": {
      "text/latex": [
       "$\\displaystyle \\left[\\begin{matrix}1 & 0 & 0\\\\0 & 1 & 0\\\\0 & 0 & 1\\end{matrix}\\right]$"
      ],
      "text/plain": [
       "Matrix([\n",
       "[1, 0, 0],\n",
       "[0, 1, 0],\n",
       "[0, 0, 1]])"
      ]
     },
     "metadata": {},
     "output_type": "display_data"
    },
    {
     "data": {
      "text/latex": [
       "$\\displaystyle \\left|{r}\\right|$"
      ],
      "text/plain": [
       "Abs(r)"
      ]
     },
     "metadata": {},
     "output_type": "display_data"
    }
   ],
   "source": [
    "r,theta,phi=coords1=sp.symbols('r theta phi',real=True)\n",
    "x,y,z=coords2=sp.symbols('x y z',real=True)\n",
    "coords2_in_1={x:r*sp.sin(theta)*sp.cos(phi),y:r*sp.sin(theta)*sp.sin(phi),z:r*sp.cos(theta)}\n",
    "coords1_in_2={r:sp.sqrt(x**2+y**2+z**2),theta:sp.acos(z/sp.sqrt(x**2+y**2+z**2)),phi:sp.atan2(y,x)}\n",
    "transf=CoordinateTransformation(coords1,coords2,coords2_in_1,coords1_in_2)\n",
    "\n",
    "display(simplify((transf.jacobi@transf.jacobi_inv).subs(transf.coords1_in_2)))\n",
    "display(simplify(transf.inverse_transform(transf.transform(r))))"
   ]
  },
  {
   "cell_type": "code",
   "execution_count": null,
   "metadata": {},
   "outputs": [],
   "source": []
  }
 ],
 "metadata": {
  "kernelspec": {
   "display_name": "tf-gpu",
   "language": "python",
   "name": "tf-gpu"
  },
  "orig_nbformat": 4
 },
 "nbformat": 4,
 "nbformat_minor": 2
}
