{
 "cells": [
  {
   "cell_type": "code",
   "execution_count": 1,
   "metadata": {},
   "outputs": [],
   "source": [
    "import sympy as sp\n",
    "from sympy import *\n",
    "import numpy as np\n",
    "import itertools as itt\n",
    "from IPython.display import display, Latex\n",
    "\n",
    "import importlib\n",
    "import symGR\n",
    "importlib.reload(symGR)\n",
    "from symGR import *"
   ]
  },
  {
   "cell_type": "code",
   "execution_count": 2,
   "metadata": {},
   "outputs": [
    {
     "data": {
      "text/latex": [
       "$\\displaystyle \\left[\\begin{matrix}- e^{\\operatorname{ft}{\\left(\\eta,x,y \\right)}} & 0 & 0 & 0\\\\0 & 1 & 0 & 0\\\\0 & 0 & e^{\\operatorname{fx}{\\left(\\eta,x,y \\right)}} & 0\\\\0 & 0 & 0 & e^{\\operatorname{fy}{\\left(\\eta,x,y \\right)}}\\end{matrix}\\right]$"
      ],
      "text/plain": [
       "Matrix([\n",
       "[-exp(ft(eta, x, y)), 0,                  0,                  0],\n",
       "[                  0, 1,                  0,                  0],\n",
       "[                  0, 0, exp(fx(eta, x, y)),                  0],\n",
       "[                  0, 0,                  0, exp(fy(eta, x, y))]])"
      ]
     },
     "metadata": {},
     "output_type": "display_data"
    }
   ],
   "source": [
    "\n",
    "AdSRad=symbols('L')\n",
    "cosmos_const=-3/AdSRad**2  # dim=4 3=(4-1)(4-2)/2\n",
    "\n",
    "t,eta,x,y=coords=symbols('t,eta,x,y')\n",
    "# t->-t fixed nondiag g_t*=0\n",
    "# if we also want x->-x y->-y although translational inv at x is broken, we have all nondiag elements vanishes.\n",
    "ft=Function('ft')(eta,x,y)\n",
    "fx=Function('fx')(eta,x,y)\n",
    "fy=Function('fy')(eta,x,y)\n",
    "fnx=Function('fnx')(eta,x,y)\n",
    "fny=Function('fny')(eta,x,y)\n",
    "fxy=Function('fxy')(eta,x,y)\n",
    "\n",
    "g=diag(-exp(ft),1,exp(fx),exp(fy))\n",
    "# g[1,2]=g[2,1]=fnx\n",
    "# g[1,3]=g[3,1]=fny\n",
    "# g[2,3]=g[3,2]=fxy\n",
    "\n",
    "display(g)"
   ]
  },
  {
   "cell_type": "code",
   "execution_count": 3,
   "metadata": {},
   "outputs": [],
   "source": [
    "Gm=Christoffel_Symbols(g,coords)\n",
    "Rie=Riemann_Tensor(Gm,coords)\n",
    "Ric=Ricci_Tensor(Rie)\n",
    "Ein=Einstein_Tensor(Ric,g)\n",
    "RicS=Ricci_Scalar(Ric,g)"
   ]
  },
  {
   "cell_type": "code",
   "execution_count": 7,
   "metadata": {},
   "outputs": [
    {
     "data": {
      "text/latex": [
       "$\\displaystyle \\left[\\begin{matrix}- \\frac{e^{\\operatorname{ft}{\\left(\\eta,x,y \\right)}} \\left(\\frac{\\partial}{\\partial \\eta} \\operatorname{fx}{\\left(\\eta,x,y \\right)}\\right)^{2}}{4} - \\frac{e^{\\operatorname{ft}{\\left(\\eta,x,y \\right)}} \\frac{\\partial}{\\partial \\eta} \\operatorname{fx}{\\left(\\eta,x,y \\right)} \\frac{\\partial}{\\partial \\eta} \\operatorname{fy}{\\left(\\eta,x,y \\right)}}{4} - \\frac{e^{\\operatorname{ft}{\\left(\\eta,x,y \\right)}} \\frac{\\partial^{2}}{\\partial \\eta^{2}} \\operatorname{fx}{\\left(\\eta,x,y \\right)}}{2} - \\frac{e^{\\operatorname{ft}{\\left(\\eta,x,y \\right)}} \\left(\\frac{\\partial}{\\partial \\eta} \\operatorname{fy}{\\left(\\eta,x,y \\right)}\\right)^{2}}{4} - \\frac{e^{\\operatorname{ft}{\\left(\\eta,x,y \\right)}} \\frac{\\partial^{2}}{\\partial \\eta^{2}} \\operatorname{fy}{\\left(\\eta,x,y \\right)}}{2} - \\frac{e^{\\operatorname{ft}{\\left(\\eta,x,y \\right)}} e^{- \\operatorname{fy}{\\left(\\eta,x,y \\right)}} \\left(\\frac{\\partial}{\\partial y} \\operatorname{fx}{\\left(\\eta,x,y \\right)}\\right)^{2}}{4} + \\frac{e^{\\operatorname{ft}{\\left(\\eta,x,y \\right)}} e^{- \\operatorname{fy}{\\left(\\eta,x,y \\right)}} \\frac{\\partial}{\\partial y} \\operatorname{fx}{\\left(\\eta,x,y \\right)} \\frac{\\partial}{\\partial y} \\operatorname{fy}{\\left(\\eta,x,y \\right)}}{4} - \\frac{e^{\\operatorname{ft}{\\left(\\eta,x,y \\right)}} e^{- \\operatorname{fy}{\\left(\\eta,x,y \\right)}} \\frac{\\partial^{2}}{\\partial y^{2}} \\operatorname{fx}{\\left(\\eta,x,y \\right)}}{2} + \\frac{e^{\\operatorname{ft}{\\left(\\eta,x,y \\right)}} e^{- \\operatorname{fx}{\\left(\\eta,x,y \\right)}} \\frac{\\partial}{\\partial x} \\operatorname{fx}{\\left(\\eta,x,y \\right)} \\frac{\\partial}{\\partial x} \\operatorname{fy}{\\left(\\eta,x,y \\right)}}{4} - \\frac{e^{\\operatorname{ft}{\\left(\\eta,x,y \\right)}} e^{- \\operatorname{fx}{\\left(\\eta,x,y \\right)}} \\left(\\frac{\\partial}{\\partial x} \\operatorname{fy}{\\left(\\eta,x,y \\right)}\\right)^{2}}{4} - \\frac{e^{\\operatorname{ft}{\\left(\\eta,x,y \\right)}} e^{- \\operatorname{fx}{\\left(\\eta,x,y \\right)}} \\frac{\\partial^{2}}{\\partial x^{2}} \\operatorname{fy}{\\left(\\eta,x,y \\right)}}{2} + \\frac{3 e^{\\operatorname{ft}{\\left(\\eta,x,y \\right)}}}{L^{2}} & 0 & 0 & 0\\\\0 & \\frac{\\frac{\\partial}{\\partial \\eta} \\operatorname{ft}{\\left(\\eta,x,y \\right)} \\frac{\\partial}{\\partial \\eta} \\operatorname{fx}{\\left(\\eta,x,y \\right)}}{4} + \\frac{\\frac{\\partial}{\\partial \\eta} \\operatorname{ft}{\\left(\\eta,x,y \\right)} \\frac{\\partial}{\\partial \\eta} \\operatorname{fy}{\\left(\\eta,x,y \\right)}}{4} + \\frac{\\frac{\\partial}{\\partial \\eta} \\operatorname{fx}{\\left(\\eta,x,y \\right)} \\frac{\\partial}{\\partial \\eta} \\operatorname{fy}{\\left(\\eta,x,y \\right)}}{4} + \\frac{e^{- \\operatorname{fy}{\\left(\\eta,x,y \\right)}} \\left(\\frac{\\partial}{\\partial y} \\operatorname{ft}{\\left(\\eta,x,y \\right)}\\right)^{2}}{4} + \\frac{e^{- \\operatorname{fy}{\\left(\\eta,x,y \\right)}} \\frac{\\partial}{\\partial y} \\operatorname{ft}{\\left(\\eta,x,y \\right)} \\frac{\\partial}{\\partial y} \\operatorname{fx}{\\left(\\eta,x,y \\right)}}{4} - \\frac{e^{- \\operatorname{fy}{\\left(\\eta,x,y \\right)}} \\frac{\\partial}{\\partial y} \\operatorname{ft}{\\left(\\eta,x,y \\right)} \\frac{\\partial}{\\partial y} \\operatorname{fy}{\\left(\\eta,x,y \\right)}}{4} + \\frac{e^{- \\operatorname{fy}{\\left(\\eta,x,y \\right)}} \\frac{\\partial^{2}}{\\partial y^{2}} \\operatorname{ft}{\\left(\\eta,x,y \\right)}}{2} + \\frac{e^{- \\operatorname{fy}{\\left(\\eta,x,y \\right)}} \\left(\\frac{\\partial}{\\partial y} \\operatorname{fx}{\\left(\\eta,x,y \\right)}\\right)^{2}}{4} - \\frac{e^{- \\operatorname{fy}{\\left(\\eta,x,y \\right)}} \\frac{\\partial}{\\partial y} \\operatorname{fx}{\\left(\\eta,x,y \\right)} \\frac{\\partial}{\\partial y} \\operatorname{fy}{\\left(\\eta,x,y \\right)}}{4} + \\frac{e^{- \\operatorname{fy}{\\left(\\eta,x,y \\right)}} \\frac{\\partial^{2}}{\\partial y^{2}} \\operatorname{fx}{\\left(\\eta,x,y \\right)}}{2} + \\frac{e^{- \\operatorname{fx}{\\left(\\eta,x,y \\right)}} \\left(\\frac{\\partial}{\\partial x} \\operatorname{ft}{\\left(\\eta,x,y \\right)}\\right)^{2}}{4} - \\frac{e^{- \\operatorname{fx}{\\left(\\eta,x,y \\right)}} \\frac{\\partial}{\\partial x} \\operatorname{ft}{\\left(\\eta,x,y \\right)} \\frac{\\partial}{\\partial x} \\operatorname{fx}{\\left(\\eta,x,y \\right)}}{4} + \\frac{e^{- \\operatorname{fx}{\\left(\\eta,x,y \\right)}} \\frac{\\partial}{\\partial x} \\operatorname{ft}{\\left(\\eta,x,y \\right)} \\frac{\\partial}{\\partial x} \\operatorname{fy}{\\left(\\eta,x,y \\right)}}{4} + \\frac{e^{- \\operatorname{fx}{\\left(\\eta,x,y \\right)}} \\frac{\\partial^{2}}{\\partial x^{2}} \\operatorname{ft}{\\left(\\eta,x,y \\right)}}{2} - \\frac{e^{- \\operatorname{fx}{\\left(\\eta,x,y \\right)}} \\frac{\\partial}{\\partial x} \\operatorname{fx}{\\left(\\eta,x,y \\right)} \\frac{\\partial}{\\partial x} \\operatorname{fy}{\\left(\\eta,x,y \\right)}}{4} + \\frac{e^{- \\operatorname{fx}{\\left(\\eta,x,y \\right)}} \\left(\\frac{\\partial}{\\partial x} \\operatorname{fy}{\\left(\\eta,x,y \\right)}\\right)^{2}}{4} + \\frac{e^{- \\operatorname{fx}{\\left(\\eta,x,y \\right)}} \\frac{\\partial^{2}}{\\partial x^{2}} \\operatorname{fy}{\\left(\\eta,x,y \\right)}}{2} - \\frac{3}{L^{2}} & - \\frac{\\frac{\\partial}{\\partial \\eta} \\operatorname{ft}{\\left(\\eta,x,y \\right)} \\frac{\\partial}{\\partial x} \\operatorname{ft}{\\left(\\eta,x,y \\right)}}{4} + \\frac{\\frac{\\partial}{\\partial x} \\operatorname{ft}{\\left(\\eta,x,y \\right)} \\frac{\\partial}{\\partial \\eta} \\operatorname{fx}{\\left(\\eta,x,y \\right)}}{4} + \\frac{\\frac{\\partial}{\\partial \\eta} \\operatorname{fx}{\\left(\\eta,x,y \\right)} \\frac{\\partial}{\\partial x} \\operatorname{fy}{\\left(\\eta,x,y \\right)}}{4} - \\frac{\\frac{\\partial}{\\partial \\eta} \\operatorname{fy}{\\left(\\eta,x,y \\right)} \\frac{\\partial}{\\partial x} \\operatorname{fy}{\\left(\\eta,x,y \\right)}}{4} - \\frac{\\frac{\\partial^{2}}{\\partial x\\partial \\eta} \\operatorname{ft}{\\left(\\eta,x,y \\right)}}{2} - \\frac{\\frac{\\partial^{2}}{\\partial x\\partial \\eta} \\operatorname{fy}{\\left(\\eta,x,y \\right)}}{2} & - \\frac{\\frac{\\partial}{\\partial \\eta} \\operatorname{ft}{\\left(\\eta,x,y \\right)} \\frac{\\partial}{\\partial y} \\operatorname{ft}{\\left(\\eta,x,y \\right)}}{4} + \\frac{\\frac{\\partial}{\\partial y} \\operatorname{ft}{\\left(\\eta,x,y \\right)} \\frac{\\partial}{\\partial \\eta} \\operatorname{fy}{\\left(\\eta,x,y \\right)}}{4} - \\frac{\\frac{\\partial}{\\partial \\eta} \\operatorname{fx}{\\left(\\eta,x,y \\right)} \\frac{\\partial}{\\partial y} \\operatorname{fx}{\\left(\\eta,x,y \\right)}}{4} + \\frac{\\frac{\\partial}{\\partial y} \\operatorname{fx}{\\left(\\eta,x,y \\right)} \\frac{\\partial}{\\partial \\eta} \\operatorname{fy}{\\left(\\eta,x,y \\right)}}{4} - \\frac{\\frac{\\partial^{2}}{\\partial y\\partial \\eta} \\operatorname{ft}{\\left(\\eta,x,y \\right)}}{2} - \\frac{\\frac{\\partial^{2}}{\\partial y\\partial \\eta} \\operatorname{fx}{\\left(\\eta,x,y \\right)}}{2}\\\\0 & - \\frac{\\frac{\\partial}{\\partial \\eta} \\operatorname{ft}{\\left(\\eta,x,y \\right)} \\frac{\\partial}{\\partial x} \\operatorname{ft}{\\left(\\eta,x,y \\right)}}{4} + \\frac{\\frac{\\partial}{\\partial x} \\operatorname{ft}{\\left(\\eta,x,y \\right)} \\frac{\\partial}{\\partial \\eta} \\operatorname{fx}{\\left(\\eta,x,y \\right)}}{4} + \\frac{\\frac{\\partial}{\\partial \\eta} \\operatorname{fx}{\\left(\\eta,x,y \\right)} \\frac{\\partial}{\\partial x} \\operatorname{fy}{\\left(\\eta,x,y \\right)}}{4} - \\frac{\\frac{\\partial}{\\partial \\eta} \\operatorname{fy}{\\left(\\eta,x,y \\right)} \\frac{\\partial}{\\partial x} \\operatorname{fy}{\\left(\\eta,x,y \\right)}}{4} - \\frac{\\frac{\\partial^{2}}{\\partial x\\partial \\eta} \\operatorname{ft}{\\left(\\eta,x,y \\right)}}{2} - \\frac{\\frac{\\partial^{2}}{\\partial x\\partial \\eta} \\operatorname{fy}{\\left(\\eta,x,y \\right)}}{2} & \\frac{e^{\\operatorname{fx}{\\left(\\eta,x,y \\right)}} \\left(\\frac{\\partial}{\\partial \\eta} \\operatorname{ft}{\\left(\\eta,x,y \\right)}\\right)^{2}}{4} + \\frac{e^{\\operatorname{fx}{\\left(\\eta,x,y \\right)}} \\frac{\\partial}{\\partial \\eta} \\operatorname{ft}{\\left(\\eta,x,y \\right)} \\frac{\\partial}{\\partial \\eta} \\operatorname{fy}{\\left(\\eta,x,y \\right)}}{4} + \\frac{e^{\\operatorname{fx}{\\left(\\eta,x,y \\right)}} \\frac{\\partial^{2}}{\\partial \\eta^{2}} \\operatorname{ft}{\\left(\\eta,x,y \\right)}}{2} + \\frac{e^{\\operatorname{fx}{\\left(\\eta,x,y \\right)}} \\left(\\frac{\\partial}{\\partial \\eta} \\operatorname{fy}{\\left(\\eta,x,y \\right)}\\right)^{2}}{4} + \\frac{e^{\\operatorname{fx}{\\left(\\eta,x,y \\right)}} \\frac{\\partial^{2}}{\\partial \\eta^{2}} \\operatorname{fy}{\\left(\\eta,x,y \\right)}}{2} + \\frac{e^{\\operatorname{fx}{\\left(\\eta,x,y \\right)}} e^{- \\operatorname{fy}{\\left(\\eta,x,y \\right)}} \\left(\\frac{\\partial}{\\partial y} \\operatorname{ft}{\\left(\\eta,x,y \\right)}\\right)^{2}}{4} - \\frac{e^{\\operatorname{fx}{\\left(\\eta,x,y \\right)}} e^{- \\operatorname{fy}{\\left(\\eta,x,y \\right)}} \\frac{\\partial}{\\partial y} \\operatorname{ft}{\\left(\\eta,x,y \\right)} \\frac{\\partial}{\\partial y} \\operatorname{fy}{\\left(\\eta,x,y \\right)}}{4} + \\frac{e^{\\operatorname{fx}{\\left(\\eta,x,y \\right)}} e^{- \\operatorname{fy}{\\left(\\eta,x,y \\right)}} \\frac{\\partial^{2}}{\\partial y^{2}} \\operatorname{ft}{\\left(\\eta,x,y \\right)}}{2} + \\frac{\\frac{\\partial}{\\partial x} \\operatorname{ft}{\\left(\\eta,x,y \\right)} \\frac{\\partial}{\\partial x} \\operatorname{fy}{\\left(\\eta,x,y \\right)}}{4} - \\frac{3 e^{\\operatorname{fx}{\\left(\\eta,x,y \\right)}}}{L^{2}} & - \\frac{\\frac{\\partial}{\\partial x} \\operatorname{ft}{\\left(\\eta,x,y \\right)} \\frac{\\partial}{\\partial y} \\operatorname{ft}{\\left(\\eta,x,y \\right)}}{4} + \\frac{\\frac{\\partial}{\\partial x} \\operatorname{ft}{\\left(\\eta,x,y \\right)} \\frac{\\partial}{\\partial y} \\operatorname{fx}{\\left(\\eta,x,y \\right)}}{4} + \\frac{\\frac{\\partial}{\\partial y} \\operatorname{ft}{\\left(\\eta,x,y \\right)} \\frac{\\partial}{\\partial x} \\operatorname{fy}{\\left(\\eta,x,y \\right)}}{4} - \\frac{\\frac{\\partial^{2}}{\\partial y\\partial x} \\operatorname{ft}{\\left(\\eta,x,y \\right)}}{2}\\\\0 & - \\frac{\\frac{\\partial}{\\partial \\eta} \\operatorname{ft}{\\left(\\eta,x,y \\right)} \\frac{\\partial}{\\partial y} \\operatorname{ft}{\\left(\\eta,x,y \\right)}}{4} + \\frac{\\frac{\\partial}{\\partial y} \\operatorname{ft}{\\left(\\eta,x,y \\right)} \\frac{\\partial}{\\partial \\eta} \\operatorname{fy}{\\left(\\eta,x,y \\right)}}{4} - \\frac{\\frac{\\partial}{\\partial \\eta} \\operatorname{fx}{\\left(\\eta,x,y \\right)} \\frac{\\partial}{\\partial y} \\operatorname{fx}{\\left(\\eta,x,y \\right)}}{4} + \\frac{\\frac{\\partial}{\\partial y} \\operatorname{fx}{\\left(\\eta,x,y \\right)} \\frac{\\partial}{\\partial \\eta} \\operatorname{fy}{\\left(\\eta,x,y \\right)}}{4} - \\frac{\\frac{\\partial^{2}}{\\partial y\\partial \\eta} \\operatorname{ft}{\\left(\\eta,x,y \\right)}}{2} - \\frac{\\frac{\\partial^{2}}{\\partial y\\partial \\eta} \\operatorname{fx}{\\left(\\eta,x,y \\right)}}{2} & - \\frac{\\frac{\\partial}{\\partial x} \\operatorname{ft}{\\left(\\eta,x,y \\right)} \\frac{\\partial}{\\partial y} \\operatorname{ft}{\\left(\\eta,x,y \\right)}}{4} + \\frac{\\frac{\\partial}{\\partial x} \\operatorname{ft}{\\left(\\eta,x,y \\right)} \\frac{\\partial}{\\partial y} \\operatorname{fx}{\\left(\\eta,x,y \\right)}}{4} + \\frac{\\frac{\\partial}{\\partial y} \\operatorname{ft}{\\left(\\eta,x,y \\right)} \\frac{\\partial}{\\partial x} \\operatorname{fy}{\\left(\\eta,x,y \\right)}}{4} - \\frac{\\frac{\\partial^{2}}{\\partial y\\partial x} \\operatorname{ft}{\\left(\\eta,x,y \\right)}}{2} & \\frac{e^{\\operatorname{fy}{\\left(\\eta,x,y \\right)}} \\left(\\frac{\\partial}{\\partial \\eta} \\operatorname{ft}{\\left(\\eta,x,y \\right)}\\right)^{2}}{4} + \\frac{e^{\\operatorname{fy}{\\left(\\eta,x,y \\right)}} \\frac{\\partial}{\\partial \\eta} \\operatorname{ft}{\\left(\\eta,x,y \\right)} \\frac{\\partial}{\\partial \\eta} \\operatorname{fx}{\\left(\\eta,x,y \\right)}}{4} + \\frac{e^{\\operatorname{fy}{\\left(\\eta,x,y \\right)}} \\frac{\\partial^{2}}{\\partial \\eta^{2}} \\operatorname{ft}{\\left(\\eta,x,y \\right)}}{2} + \\frac{e^{\\operatorname{fy}{\\left(\\eta,x,y \\right)}} \\left(\\frac{\\partial}{\\partial \\eta} \\operatorname{fx}{\\left(\\eta,x,y \\right)}\\right)^{2}}{4} + \\frac{e^{\\operatorname{fy}{\\left(\\eta,x,y \\right)}} \\frac{\\partial^{2}}{\\partial \\eta^{2}} \\operatorname{fx}{\\left(\\eta,x,y \\right)}}{2} + \\frac{\\frac{\\partial}{\\partial y} \\operatorname{ft}{\\left(\\eta,x,y \\right)} \\frac{\\partial}{\\partial y} \\operatorname{fx}{\\left(\\eta,x,y \\right)}}{4} + \\frac{e^{- \\operatorname{fx}{\\left(\\eta,x,y \\right)}} e^{\\operatorname{fy}{\\left(\\eta,x,y \\right)}} \\left(\\frac{\\partial}{\\partial x} \\operatorname{ft}{\\left(\\eta,x,y \\right)}\\right)^{2}}{4} - \\frac{e^{- \\operatorname{fx}{\\left(\\eta,x,y \\right)}} e^{\\operatorname{fy}{\\left(\\eta,x,y \\right)}} \\frac{\\partial}{\\partial x} \\operatorname{ft}{\\left(\\eta,x,y \\right)} \\frac{\\partial}{\\partial x} \\operatorname{fx}{\\left(\\eta,x,y \\right)}}{4} + \\frac{e^{- \\operatorname{fx}{\\left(\\eta,x,y \\right)}} e^{\\operatorname{fy}{\\left(\\eta,x,y \\right)}} \\frac{\\partial^{2}}{\\partial x^{2}} \\operatorname{ft}{\\left(\\eta,x,y \\right)}}{2} - \\frac{3 e^{\\operatorname{fy}{\\left(\\eta,x,y \\right)}}}{L^{2}}\\end{matrix}\\right]$"
      ],
      "text/plain": [
       "[[-exp(ft(eta, x, y))*Derivative(fx(eta, x, y), eta)**2/4 - exp(ft(eta, x, y))*Derivative(fx(eta, x, y), eta)*Derivative(fy(eta, x, y), eta)/4 - exp(ft(eta, x, y))*Derivative(fx(eta, x, y), (eta, 2))/2 - exp(ft(eta, x, y))*Derivative(fy(eta, x, y), eta)**2/4 - exp(ft(eta, x, y))*Derivative(fy(eta, x, y), (eta, 2))/2 - exp(ft(eta, x, y))*exp(-fy(eta, x, y))*Derivative(fx(eta, x, y), y)**2/4 + exp(ft(eta, x, y))*exp(-fy(eta, x, y))*Derivative(fx(eta, x, y), y)*Derivative(fy(eta, x, y), y)/4 - exp(ft(eta, x, y))*exp(-fy(eta, x, y))*Derivative(fx(eta, x, y), (y, 2))/2 + exp(ft(eta, x, y))*exp(-fx(eta, x, y))*Derivative(fx(eta, x, y), x)*Derivative(fy(eta, x, y), x)/4 - exp(ft(eta, x, y))*exp(-fx(eta, x, y))*Derivative(fy(eta, x, y), x)**2/4 - exp(ft(eta, x, y))*exp(-fx(eta, x, y))*Derivative(fy(eta, x, y), (x, 2))/2 + 3*exp(ft(eta, x, y))/L**2, 0, 0, 0], [0, Derivative(ft(eta, x, y), eta)*Derivative(fx(eta, x, y), eta)/4 + Derivative(ft(eta, x, y), eta)*Derivative(fy(eta, x, y), eta)/4 + Derivative(fx(eta, x, y), eta)*Derivative(fy(eta, x, y), eta)/4 + exp(-fy(eta, x, y))*Derivative(ft(eta, x, y), y)**2/4 + exp(-fy(eta, x, y))*Derivative(ft(eta, x, y), y)*Derivative(fx(eta, x, y), y)/4 - exp(-fy(eta, x, y))*Derivative(ft(eta, x, y), y)*Derivative(fy(eta, x, y), y)/4 + exp(-fy(eta, x, y))*Derivative(ft(eta, x, y), (y, 2))/2 + exp(-fy(eta, x, y))*Derivative(fx(eta, x, y), y)**2/4 - exp(-fy(eta, x, y))*Derivative(fx(eta, x, y), y)*Derivative(fy(eta, x, y), y)/4 + exp(-fy(eta, x, y))*Derivative(fx(eta, x, y), (y, 2))/2 + exp(-fx(eta, x, y))*Derivative(ft(eta, x, y), x)**2/4 - exp(-fx(eta, x, y))*Derivative(ft(eta, x, y), x)*Derivative(fx(eta, x, y), x)/4 + exp(-fx(eta, x, y))*Derivative(ft(eta, x, y), x)*Derivative(fy(eta, x, y), x)/4 + exp(-fx(eta, x, y))*Derivative(ft(eta, x, y), (x, 2))/2 - exp(-fx(eta, x, y))*Derivative(fx(eta, x, y), x)*Derivative(fy(eta, x, y), x)/4 + exp(-fx(eta, x, y))*Derivative(fy(eta, x, y), x)**2/4 + exp(-fx(eta, x, y))*Derivative(fy(eta, x, y), (x, 2))/2 - 3/L**2, -Derivative(ft(eta, x, y), eta)*Derivative(ft(eta, x, y), x)/4 + Derivative(ft(eta, x, y), x)*Derivative(fx(eta, x, y), eta)/4 + Derivative(fx(eta, x, y), eta)*Derivative(fy(eta, x, y), x)/4 - Derivative(fy(eta, x, y), eta)*Derivative(fy(eta, x, y), x)/4 - Derivative(ft(eta, x, y), eta, x)/2 - Derivative(fy(eta, x, y), eta, x)/2, -Derivative(ft(eta, x, y), eta)*Derivative(ft(eta, x, y), y)/4 + Derivative(ft(eta, x, y), y)*Derivative(fy(eta, x, y), eta)/4 - Derivative(fx(eta, x, y), eta)*Derivative(fx(eta, x, y), y)/4 + Derivative(fx(eta, x, y), y)*Derivative(fy(eta, x, y), eta)/4 - Derivative(ft(eta, x, y), eta, y)/2 - Derivative(fx(eta, x, y), eta, y)/2], [0, -Derivative(ft(eta, x, y), eta)*Derivative(ft(eta, x, y), x)/4 + Derivative(ft(eta, x, y), x)*Derivative(fx(eta, x, y), eta)/4 + Derivative(fx(eta, x, y), eta)*Derivative(fy(eta, x, y), x)/4 - Derivative(fy(eta, x, y), eta)*Derivative(fy(eta, x, y), x)/4 - Derivative(ft(eta, x, y), eta, x)/2 - Derivative(fy(eta, x, y), eta, x)/2, exp(fx(eta, x, y))*Derivative(ft(eta, x, y), eta)**2/4 + exp(fx(eta, x, y))*Derivative(ft(eta, x, y), eta)*Derivative(fy(eta, x, y), eta)/4 + exp(fx(eta, x, y))*Derivative(ft(eta, x, y), (eta, 2))/2 + exp(fx(eta, x, y))*Derivative(fy(eta, x, y), eta)**2/4 + exp(fx(eta, x, y))*Derivative(fy(eta, x, y), (eta, 2))/2 + exp(fx(eta, x, y))*exp(-fy(eta, x, y))*Derivative(ft(eta, x, y), y)**2/4 - exp(fx(eta, x, y))*exp(-fy(eta, x, y))*Derivative(ft(eta, x, y), y)*Derivative(fy(eta, x, y), y)/4 + exp(fx(eta, x, y))*exp(-fy(eta, x, y))*Derivative(ft(eta, x, y), (y, 2))/2 + Derivative(ft(eta, x, y), x)*Derivative(fy(eta, x, y), x)/4 - 3*exp(fx(eta, x, y))/L**2, -Derivative(ft(eta, x, y), x)*Derivative(ft(eta, x, y), y)/4 + Derivative(ft(eta, x, y), x)*Derivative(fx(eta, x, y), y)/4 + Derivative(ft(eta, x, y), y)*Derivative(fy(eta, x, y), x)/4 - Derivative(ft(eta, x, y), x, y)/2], [0, -Derivative(ft(eta, x, y), eta)*Derivative(ft(eta, x, y), y)/4 + Derivative(ft(eta, x, y), y)*Derivative(fy(eta, x, y), eta)/4 - Derivative(fx(eta, x, y), eta)*Derivative(fx(eta, x, y), y)/4 + Derivative(fx(eta, x, y), y)*Derivative(fy(eta, x, y), eta)/4 - Derivative(ft(eta, x, y), eta, y)/2 - Derivative(fx(eta, x, y), eta, y)/2, -Derivative(ft(eta, x, y), x)*Derivative(ft(eta, x, y), y)/4 + Derivative(ft(eta, x, y), x)*Derivative(fx(eta, x, y), y)/4 + Derivative(ft(eta, x, y), y)*Derivative(fy(eta, x, y), x)/4 - Derivative(ft(eta, x, y), x, y)/2, exp(fy(eta, x, y))*Derivative(ft(eta, x, y), eta)**2/4 + exp(fy(eta, x, y))*Derivative(ft(eta, x, y), eta)*Derivative(fx(eta, x, y), eta)/4 + exp(fy(eta, x, y))*Derivative(ft(eta, x, y), (eta, 2))/2 + exp(fy(eta, x, y))*Derivative(fx(eta, x, y), eta)**2/4 + exp(fy(eta, x, y))*Derivative(fx(eta, x, y), (eta, 2))/2 + Derivative(ft(eta, x, y), y)*Derivative(fx(eta, x, y), y)/4 + exp(-fx(eta, x, y))*exp(fy(eta, x, y))*Derivative(ft(eta, x, y), x)**2/4 - exp(-fx(eta, x, y))*exp(fy(eta, x, y))*Derivative(ft(eta, x, y), x)*Derivative(fx(eta, x, y), x)/4 + exp(-fx(eta, x, y))*exp(fy(eta, x, y))*Derivative(ft(eta, x, y), (x, 2))/2 - 3*exp(fy(eta, x, y))/L**2]]"
      ]
     },
     "execution_count": 7,
     "metadata": {},
     "output_type": "execute_result"
    }
   ],
   "source": [
    "eqT=Ein+Array(g)*(cosmos_const)\n",
    "eqT=eqT.applyfunc(expand)\n",
    "eqT\n"
   ]
  },
  {
   "cell_type": "code",
   "execution_count": 9,
   "metadata": {},
   "outputs": [
    {
     "data": {
      "text/latex": [
       "$\\displaystyle - \\frac{m^{2} \\phi^{2}{\\left(\\eta,x,y \\right)}}{2} - V{\\left(\\phi{\\left(\\eta,x,y \\right)} \\right)} - \\frac{\\left(\\frac{\\partial}{\\partial \\eta} \\phi{\\left(\\eta,x,y \\right)}\\right)^{2}}{2} - \\frac{e^{- \\operatorname{fy}{\\left(\\eta,x,y \\right)}} \\left(\\frac{\\partial}{\\partial y} \\phi{\\left(\\eta,x,y \\right)}\\right)^{2}}{2} - \\frac{e^{- \\operatorname{fx}{\\left(\\eta,x,y \\right)}} \\left(\\frac{\\partial}{\\partial x} \\phi{\\left(\\eta,x,y \\right)}\\right)^{2}}{2}$"
      ],
      "text/plain": [
       "-m**2*phi(eta, x, y)**2/2 - V(phi(eta, x, y)) - Derivative(phi(eta, x, y), eta)**2/2 - exp(-fy(eta, x, y))*Derivative(phi(eta, x, y), y)**2/2 - exp(-fx(eta, x, y))*Derivative(phi(eta, x, y), x)**2/2"
      ]
     },
     "execution_count": 9,
     "metadata": {},
     "output_type": "execute_result"
    }
   ],
   "source": [
    "D=get_covariant_derivative(coords,Gm=Gm)\n",
    "\n",
    "phi=Function('phi')(eta,x,y)\n",
    "pi=Function('pi')(eta,x,y)\n",
    "\n",
    "m=symbols('m')\n",
    "VFunc=Function('V')\n",
    "sqrtg=sqrt(-g.det())\n",
    "\n",
    "dphi=D(phi)\n",
    "\n",
    "L=-contract('i,j,ij',dphi,dphi,g.inv())/2-m**2*phi**2/2-VFunc(phi)\n",
    "L=expand(L)\n",
    "L"
   ]
  },
  {
   "cell_type": "code",
   "execution_count": 10,
   "metadata": {},
   "outputs": [
    {
     "data": {
      "text/latex": [
       "$\\displaystyle - m^{2} \\phi{\\left(\\eta,x,y \\right)} + \\frac{\\pi{\\left(\\eta,x,y \\right)} \\frac{\\partial}{\\partial \\eta} \\operatorname{ft}{\\left(\\eta,x,y \\right)}}{2} + \\frac{\\pi{\\left(\\eta,x,y \\right)} \\frac{\\partial}{\\partial \\eta} \\operatorname{fx}{\\left(\\eta,x,y \\right)}}{2} + \\frac{\\pi{\\left(\\eta,x,y \\right)} \\frac{\\partial}{\\partial \\eta} \\operatorname{fy}{\\left(\\eta,x,y \\right)}}{2} - \\frac{\\partial}{\\partial \\phi{\\left(\\eta,x,y \\right)}} V{\\left(\\phi{\\left(\\eta,x,y \\right)} \\right)} + \\frac{\\partial}{\\partial \\eta} \\pi{\\left(\\eta,x,y \\right)} + \\frac{e^{- \\operatorname{fy}{\\left(\\eta,x,y \\right)}} \\frac{\\partial}{\\partial y} \\operatorname{ft}{\\left(\\eta,x,y \\right)} \\frac{\\partial}{\\partial y} \\phi{\\left(\\eta,x,y \\right)}}{2} + \\frac{e^{- \\operatorname{fy}{\\left(\\eta,x,y \\right)}} \\frac{\\partial}{\\partial y} \\operatorname{fx}{\\left(\\eta,x,y \\right)} \\frac{\\partial}{\\partial y} \\phi{\\left(\\eta,x,y \\right)}}{2} - \\frac{e^{- \\operatorname{fy}{\\left(\\eta,x,y \\right)}} \\frac{\\partial}{\\partial y} \\operatorname{fy}{\\left(\\eta,x,y \\right)} \\frac{\\partial}{\\partial y} \\phi{\\left(\\eta,x,y \\right)}}{2} + e^{- \\operatorname{fy}{\\left(\\eta,x,y \\right)}} \\frac{\\partial^{2}}{\\partial y^{2}} \\phi{\\left(\\eta,x,y \\right)} + \\frac{e^{- \\operatorname{fx}{\\left(\\eta,x,y \\right)}} \\frac{\\partial}{\\partial x} \\operatorname{ft}{\\left(\\eta,x,y \\right)} \\frac{\\partial}{\\partial x} \\phi{\\left(\\eta,x,y \\right)}}{2} - \\frac{e^{- \\operatorname{fx}{\\left(\\eta,x,y \\right)}} \\frac{\\partial}{\\partial x} \\operatorname{fx}{\\left(\\eta,x,y \\right)} \\frac{\\partial}{\\partial x} \\phi{\\left(\\eta,x,y \\right)}}{2} + \\frac{e^{- \\operatorname{fx}{\\left(\\eta,x,y \\right)}} \\frac{\\partial}{\\partial x} \\operatorname{fy}{\\left(\\eta,x,y \\right)} \\frac{\\partial}{\\partial x} \\phi{\\left(\\eta,x,y \\right)}}{2} + e^{- \\operatorname{fx}{\\left(\\eta,x,y \\right)}} \\frac{\\partial^{2}}{\\partial x^{2}} \\phi{\\left(\\eta,x,y \\right)}$"
      ],
      "text/plain": [
       "-m**2*phi(eta, x, y) + pi(eta, x, y)*Derivative(ft(eta, x, y), eta)/2 + pi(eta, x, y)*Derivative(fx(eta, x, y), eta)/2 + pi(eta, x, y)*Derivative(fy(eta, x, y), eta)/2 - Derivative(V(phi(eta, x, y)), phi(eta, x, y)) + Derivative(pi(eta, x, y), eta) + exp(-fy(eta, x, y))*Derivative(ft(eta, x, y), y)*Derivative(phi(eta, x, y), y)/2 + exp(-fy(eta, x, y))*Derivative(fx(eta, x, y), y)*Derivative(phi(eta, x, y), y)/2 - exp(-fy(eta, x, y))*Derivative(fy(eta, x, y), y)*Derivative(phi(eta, x, y), y)/2 + exp(-fy(eta, x, y))*Derivative(phi(eta, x, y), (y, 2)) + exp(-fx(eta, x, y))*Derivative(ft(eta, x, y), x)*Derivative(phi(eta, x, y), x)/2 - exp(-fx(eta, x, y))*Derivative(fx(eta, x, y), x)*Derivative(phi(eta, x, y), x)/2 + exp(-fx(eta, x, y))*Derivative(fy(eta, x, y), x)*Derivative(phi(eta, x, y), x)/2 + exp(-fx(eta, x, y))*Derivative(phi(eta, x, y), (x, 2))"
      ]
     },
     "execution_count": 10,
     "metadata": {},
     "output_type": "execute_result"
    }
   ],
   "source": [
    "dLddphi=Array([0,diff(L,diff(phi,eta)),0,0])\n",
    "dphi=D(phi)\n",
    "dLddphi=Array([diff(L,x) if x!=0 else 0 for x in dphi])\n",
    "\n",
    "\n",
    "\n",
    "eom=diff(L,phi)-contract('ii',D(dLddphi,'u'))\n",
    "eom=eom.subs(diff(phi,eta),pi)\n",
    "eom=expand(eom)\n",
    "eom"
   ]
  },
  {
   "cell_type": "code",
   "execution_count": null,
   "metadata": {},
   "outputs": [],
   "source": []
  }
 ],
 "metadata": {
  "kernelspec": {
   "display_name": "tf-gpu",
   "language": "python",
   "name": "tf-gpu"
  },
  "language_info": {
   "codemirror_mode": {
    "name": "ipython",
    "version": 3
   },
   "file_extension": ".py",
   "mimetype": "text/x-python",
   "name": "python",
   "nbconvert_exporter": "python",
   "pygments_lexer": "ipython3",
   "version": "3.9.15"
  },
  "orig_nbformat": 4
 },
 "nbformat": 4,
 "nbformat_minor": 2
}
