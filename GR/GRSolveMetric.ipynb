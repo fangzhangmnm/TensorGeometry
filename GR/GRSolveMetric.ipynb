{
 "cells": [
  {
   "cell_type": "code",
   "execution_count": 16,
   "metadata": {},
   "outputs": [],
   "source": [
    "import sympy as sp\n",
    "import numpy as np\n",
    "import itertools as itt\n",
    "from IPython.display import display\n",
    "\n",
    "\n",
    "import importlib\n",
    "import symGR\n",
    "importlib.reload(symGR)\n",
    "from symGR import *\n"
   ]
  },
  {
   "attachments": {},
   "cell_type": "markdown",
   "metadata": {},
   "source": [
    "# Spherical symmetry with zero cosmological constant"
   ]
  },
  {
   "cell_type": "code",
   "execution_count": 17,
   "metadata": {},
   "outputs": [
    {
     "data": {
      "text/latex": [
       "$\\displaystyle \\left[\\begin{matrix}- f{\\left(r \\right)} & 0 & 0 & 0\\\\0 & g{\\left(r \\right)} & 0 & 0\\\\0 & 0 & r^{2} & 0\\\\0 & 0 & 0 & r^{2} \\sin^{2}{\\left(\\theta \\right)}\\end{matrix}\\right]$"
      ],
      "text/plain": [
       "Matrix([\n",
       "[-f(r),    0,    0,                  0],\n",
       "[    0, g(r),    0,                  0],\n",
       "[    0,    0, r**2,                  0],\n",
       "[    0,    0,    0, r**2*sin(theta)**2]])"
      ]
     },
     "metadata": {},
     "output_type": "display_data"
    }
   ],
   "source": [
    "t,r,th,phi=coords=symbols('t,r,theta,phi')\n",
    "fFunc=Function('f')(r)\n",
    "gFunc=Function('g')(r)\n",
    "df=diff(fFunc,r)\n",
    "dg=diff(gFunc,r)\n",
    "ddf=diff(fFunc,r,r)\n",
    "ddg=diff(gFunc,r,r)\n",
    "\n",
    "g=diag(-fFunc,gFunc,r**2,r**2*sin(th)**2)\n",
    "\n",
    "display(g)"
   ]
  },
  {
   "cell_type": "code",
   "execution_count": 18,
   "metadata": {},
   "outputs": [],
   "source": [
    "Gm=Christoffel_Symbols(g,coords)\n",
    "Rie=Riemann_Tensor(Gm,coords)\n",
    "Ric=Ricci_Tensor(Rie)\n",
    "Ein=Einstein_Tensor(Ric,g)"
   ]
  },
  {
   "cell_type": "code",
   "execution_count": 19,
   "metadata": {},
   "outputs": [
    {
     "data": {
      "text/latex": [
       "$\\displaystyle \\frac{f{\\left(r \\right)} \\frac{d}{d r} g{\\left(r \\right)}}{r g^{2}{\\left(r \\right)}} + \\frac{f{\\left(r \\right)}}{r^{2}} - \\frac{f{\\left(r \\right)}}{r^{2} g{\\left(r \\right)}}$"
      ],
      "text/plain": [
       "f(r)*Derivative(g(r), r)/(r*g(r)**2) + f(r)/r**2 - f(r)/(r**2*g(r))"
      ]
     },
     "metadata": {},
     "output_type": "display_data"
    },
    {
     "data": {
      "text/latex": [
       "$\\displaystyle \\frac{\\frac{d}{d r} f{\\left(r \\right)}}{r f{\\left(r \\right)}} - \\frac{g{\\left(r \\right)}}{r^{2}} + \\frac{1}{r^{2}}$"
      ],
      "text/plain": [
       "Derivative(f(r), r)/(r*f(r)) - g(r)/r**2 + r**(-2)"
      ]
     },
     "metadata": {},
     "output_type": "display_data"
    },
    {
     "data": {
      "text/latex": [
       "$\\displaystyle \\frac{r^{2} \\frac{d^{2}}{d r^{2}} f{\\left(r \\right)}}{2 f{\\left(r \\right)} g{\\left(r \\right)}} - \\frac{r^{2} \\frac{d}{d r} f{\\left(r \\right)} \\frac{d}{d r} g{\\left(r \\right)}}{4 f{\\left(r \\right)} g^{2}{\\left(r \\right)}} - \\frac{r^{2} \\left(\\frac{d}{d r} f{\\left(r \\right)}\\right)^{2}}{4 f^{2}{\\left(r \\right)} g{\\left(r \\right)}} - \\frac{r \\frac{d}{d r} g{\\left(r \\right)}}{2 g^{2}{\\left(r \\right)}} + \\frac{r \\frac{d}{d r} f{\\left(r \\right)}}{2 f{\\left(r \\right)} g{\\left(r \\right)}}$"
      ],
      "text/plain": [
       "r**2*Derivative(f(r), (r, 2))/(2*f(r)*g(r)) - r**2*Derivative(f(r), r)*Derivative(g(r), r)/(4*f(r)*g(r)**2) - r**2*Derivative(f(r), r)**2/(4*f(r)**2*g(r)) - r*Derivative(g(r), r)/(2*g(r)**2) + r*Derivative(f(r), r)/(2*f(r)*g(r))"
      ]
     },
     "metadata": {},
     "output_type": "display_data"
    },
    {
     "data": {
      "text/latex": [
       "$\\displaystyle \\frac{r^{2} \\sin^{2}{\\left(\\theta \\right)} \\frac{d^{2}}{d r^{2}} f{\\left(r \\right)}}{2 f{\\left(r \\right)} g{\\left(r \\right)}} - \\frac{r^{2} \\sin^{2}{\\left(\\theta \\right)} \\frac{d}{d r} f{\\left(r \\right)} \\frac{d}{d r} g{\\left(r \\right)}}{4 f{\\left(r \\right)} g^{2}{\\left(r \\right)}} - \\frac{r^{2} \\sin^{2}{\\left(\\theta \\right)} \\left(\\frac{d}{d r} f{\\left(r \\right)}\\right)^{2}}{4 f^{2}{\\left(r \\right)} g{\\left(r \\right)}} - \\frac{r \\sin^{2}{\\left(\\theta \\right)} \\frac{d}{d r} g{\\left(r \\right)}}{2 g^{2}{\\left(r \\right)}} + \\frac{r \\sin^{2}{\\left(\\theta \\right)} \\frac{d}{d r} f{\\left(r \\right)}}{2 f{\\left(r \\right)} g{\\left(r \\right)}}$"
      ],
      "text/plain": [
       "r**2*sin(theta)**2*Derivative(f(r), (r, 2))/(2*f(r)*g(r)) - r**2*sin(theta)**2*Derivative(f(r), r)*Derivative(g(r), r)/(4*f(r)*g(r)**2) - r**2*sin(theta)**2*Derivative(f(r), r)**2/(4*f(r)**2*g(r)) - r*sin(theta)**2*Derivative(g(r), r)/(2*g(r)**2) + r*sin(theta)**2*Derivative(f(r), r)/(2*f(r)*g(r))"
      ]
     },
     "metadata": {},
     "output_type": "display_data"
    }
   ],
   "source": [
    "eq1=expand(Ein[0,0])\n",
    "eq2=expand(Ein[1,1])\n",
    "eq3=expand(Ein[2,2])\n",
    "eq4=expand(Ein[3,3])\n",
    "\n",
    "display(eq1)\n",
    "display(eq2)\n",
    "display(eq3)\n",
    "display(eq4)"
   ]
  },
  {
   "cell_type": "code",
   "execution_count": 20,
   "metadata": {},
   "outputs": [
    {
     "data": {
      "text/latex": [
       "$\\displaystyle \\frac{\\frac{d}{d r} g{\\left(r \\right)}}{r g{\\left(r \\right)}} + \\frac{\\frac{d}{d r} f{\\left(r \\right)}}{r f{\\left(r \\right)}}$"
      ],
      "text/plain": [
       "Derivative(g(r), r)/(r*g(r)) + Derivative(f(r), r)/(r*f(r))"
      ]
     },
     "execution_count": 20,
     "metadata": {},
     "output_type": "execute_result"
    }
   ],
   "source": [
    "expand(eq1*gFunc/fFunc+eq2)"
   ]
  },
  {
   "cell_type": "code",
   "execution_count": 21,
   "metadata": {},
   "outputs": [
    {
     "data": {
      "text/latex": [
       "$\\displaystyle \\frac{r^{2} \\frac{d^{2}}{d r^{2}} f{\\left(r \\right)}}{2 K} - \\frac{r^{2} \\left(\\frac{d}{d r} f{\\left(r \\right)}\\right)^{2}}{4 K f{\\left(r \\right)}} + \\frac{r \\frac{d}{d r} f{\\left(r \\right)}}{2 K} - \\frac{r^{2} f{\\left(r \\right)} \\frac{\\partial}{\\partial r} \\frac{K}{f{\\left(r \\right)}} \\frac{d}{d r} f{\\left(r \\right)}}{4 K^{2}} - \\frac{r f^{2}{\\left(r \\right)} \\frac{\\partial}{\\partial r} \\frac{K}{f{\\left(r \\right)}}}{2 K^{2}}$"
      ],
      "text/plain": [
       "r**2*Derivative(f(r), (r, 2))/(2*K) - r**2*Derivative(f(r), r)**2/(4*K*f(r)) + r*Derivative(f(r), r)/(2*K) - r**2*f(r)*Derivative(K/f(r), r)*Derivative(f(r), r)/(4*K**2) - r*f(r)**2*Derivative(K/f(r), r)/(2*K**2)"
      ]
     },
     "execution_count": 21,
     "metadata": {},
     "output_type": "execute_result"
    }
   ],
   "source": [
    "K=symbols('K')\n",
    "eq=expand(eq3.subs(gFunc,K/fFunc))\n",
    "eq"
   ]
  },
  {
   "cell_type": "code",
   "execution_count": 22,
   "metadata": {},
   "outputs": [
    {
     "data": {
      "text/latex": [
       "$\\displaystyle f{\\left(r \\right)} = C_{1} + \\frac{C_{2}}{r}$"
      ],
      "text/plain": [
       "Eq(f(r), C1 + C2/r)"
      ]
     },
     "execution_count": 22,
     "metadata": {},
     "output_type": "execute_result"
    }
   ],
   "source": [
    "dsolve(eq)"
   ]
  },
  {
   "attachments": {},
   "cell_type": "markdown",
   "metadata": {},
   "source": [
    "# Spherical Symmetry with cosmological constant"
   ]
  },
  {
   "cell_type": "code",
   "execution_count": 23,
   "metadata": {},
   "outputs": [
    {
     "data": {
      "text/latex": [
       "$\\displaystyle \\left[\\begin{matrix}- f{\\left(r \\right)} & 0 & 0 & 0\\\\0 & g{\\left(r \\right)} & 0 & 0\\\\0 & 0 & r^{2} & 0\\\\0 & 0 & 0 & r^{2} \\sin^{2}{\\left(\\theta \\right)}\\end{matrix}\\right]$"
      ],
      "text/plain": [
       "Matrix([\n",
       "[-f(r),    0,    0,                  0],\n",
       "[    0, g(r),    0,                  0],\n",
       "[    0,    0, r**2,                  0],\n",
       "[    0,    0,    0, r**2*sin(theta)**2]])"
      ]
     },
     "metadata": {},
     "output_type": "display_data"
    }
   ],
   "source": [
    "AdSRad=symbols('L')\n",
    "cosmos_const=-3/AdSRad**2\n",
    "\n",
    "t,r,th,phi=coords=symbols('t,r,theta,phi')\n",
    "fFunc=Function('f')(r)\n",
    "gFunc=Function('g')(r)\n",
    "df=diff(fFunc,r)\n",
    "dg=diff(gFunc,r)\n",
    "ddf=diff(fFunc,r,r)\n",
    "ddg=diff(gFunc,r,r)\n",
    "g=diag(-fFunc,gFunc,r**2,r**2*sin(th)**2)\n",
    "\n",
    "display(g)"
   ]
  },
  {
   "cell_type": "code",
   "execution_count": 24,
   "metadata": {},
   "outputs": [],
   "source": [
    "Gm=Christoffel_Symbols(g,coords)\n",
    "Rie=Riemann_Tensor(Gm,coords)\n",
    "Ric=Ricci_Tensor(Rie)\n",
    "Ein=Einstein_Tensor(Ric,g)"
   ]
  },
  {
   "cell_type": "code",
   "execution_count": 26,
   "metadata": {},
   "outputs": [
    {
     "data": {
      "text/latex": [
       "$\\displaystyle \\frac{f{\\left(r \\right)} \\frac{d}{d r} g{\\left(r \\right)}}{r g^{2}{\\left(r \\right)}} + \\frac{f{\\left(r \\right)}}{r^{2}} - \\frac{f{\\left(r \\right)}}{r^{2} g{\\left(r \\right)}} + \\frac{3 f{\\left(r \\right)}}{L^{2}}$"
      ],
      "text/plain": [
       "f(r)*Derivative(g(r), r)/(r*g(r)**2) + f(r)/r**2 - f(r)/(r**2*g(r)) + 3*f(r)/L**2"
      ]
     },
     "metadata": {},
     "output_type": "display_data"
    },
    {
     "data": {
      "text/latex": [
       "$\\displaystyle \\frac{\\frac{d}{d r} f{\\left(r \\right)}}{r f{\\left(r \\right)}} - \\frac{g{\\left(r \\right)}}{r^{2}} + \\frac{1}{r^{2}} - \\frac{3 g{\\left(r \\right)}}{L^{2}}$"
      ],
      "text/plain": [
       "Derivative(f(r), r)/(r*f(r)) - g(r)/r**2 + r**(-2) - 3*g(r)/L**2"
      ]
     },
     "metadata": {},
     "output_type": "display_data"
    },
    {
     "data": {
      "text/latex": [
       "$\\displaystyle \\frac{r^{2} \\frac{d^{2}}{d r^{2}} f{\\left(r \\right)}}{2 f{\\left(r \\right)} g{\\left(r \\right)}} - \\frac{r^{2} \\frac{d}{d r} f{\\left(r \\right)} \\frac{d}{d r} g{\\left(r \\right)}}{4 f{\\left(r \\right)} g^{2}{\\left(r \\right)}} - \\frac{r^{2} \\left(\\frac{d}{d r} f{\\left(r \\right)}\\right)^{2}}{4 f^{2}{\\left(r \\right)} g{\\left(r \\right)}} - \\frac{r \\frac{d}{d r} g{\\left(r \\right)}}{2 g^{2}{\\left(r \\right)}} + \\frac{r \\frac{d}{d r} f{\\left(r \\right)}}{2 f{\\left(r \\right)} g{\\left(r \\right)}} - \\frac{3 r^{2}}{L^{2}}$"
      ],
      "text/plain": [
       "r**2*Derivative(f(r), (r, 2))/(2*f(r)*g(r)) - r**2*Derivative(f(r), r)*Derivative(g(r), r)/(4*f(r)*g(r)**2) - r**2*Derivative(f(r), r)**2/(4*f(r)**2*g(r)) - r*Derivative(g(r), r)/(2*g(r)**2) + r*Derivative(f(r), r)/(2*f(r)*g(r)) - 3*r**2/L**2"
      ]
     },
     "metadata": {},
     "output_type": "display_data"
    },
    {
     "data": {
      "text/latex": [
       "$\\displaystyle \\frac{r^{2} \\sin^{2}{\\left(\\theta \\right)} \\frac{d^{2}}{d r^{2}} f{\\left(r \\right)}}{2 f{\\left(r \\right)} g{\\left(r \\right)}} - \\frac{r^{2} \\sin^{2}{\\left(\\theta \\right)} \\frac{d}{d r} f{\\left(r \\right)} \\frac{d}{d r} g{\\left(r \\right)}}{4 f{\\left(r \\right)} g^{2}{\\left(r \\right)}} - \\frac{r^{2} \\sin^{2}{\\left(\\theta \\right)} \\left(\\frac{d}{d r} f{\\left(r \\right)}\\right)^{2}}{4 f^{2}{\\left(r \\right)} g{\\left(r \\right)}} - \\frac{r \\sin^{2}{\\left(\\theta \\right)} \\frac{d}{d r} g{\\left(r \\right)}}{2 g^{2}{\\left(r \\right)}} + \\frac{r \\sin^{2}{\\left(\\theta \\right)} \\frac{d}{d r} f{\\left(r \\right)}}{2 f{\\left(r \\right)} g{\\left(r \\right)}} - \\frac{3 r^{2} \\sin^{2}{\\left(\\theta \\right)}}{L^{2}}$"
      ],
      "text/plain": [
       "r**2*sin(theta)**2*Derivative(f(r), (r, 2))/(2*f(r)*g(r)) - r**2*sin(theta)**2*Derivative(f(r), r)*Derivative(g(r), r)/(4*f(r)*g(r)**2) - r**2*sin(theta)**2*Derivative(f(r), r)**2/(4*f(r)**2*g(r)) - r*sin(theta)**2*Derivative(g(r), r)/(2*g(r)**2) + r*sin(theta)**2*Derivative(f(r), r)/(2*f(r)*g(r)) - 3*r**2*sin(theta)**2/L**2"
      ]
     },
     "metadata": {},
     "output_type": "display_data"
    }
   ],
   "source": [
    "# R_ij-1/2 g_ij R + Λ g_ij=0\n",
    "\n",
    "eqT=Ein+Array(g)*(cosmos_const)\n",
    "\n",
    "eq1=expand(eqT[0,0])\n",
    "eq2=expand(eqT[1,1])\n",
    "eq3=expand(eqT[2,2])\n",
    "eq4=expand(eqT[3,3])\n",
    "\n",
    "display(eq1)\n",
    "display(eq2)\n",
    "display(eq3)\n",
    "display(eq4)"
   ]
  },
  {
   "cell_type": "code",
   "execution_count": 27,
   "metadata": {},
   "outputs": [
    {
     "data": {
      "text/latex": [
       "$\\displaystyle \\frac{\\frac{d}{d r} g{\\left(r \\right)}}{r g{\\left(r \\right)}} + \\frac{\\frac{d}{d r} f{\\left(r \\right)}}{r f{\\left(r \\right)}}$"
      ],
      "text/plain": [
       "Derivative(g(r), r)/(r*g(r)) + Derivative(f(r), r)/(r*f(r))"
      ]
     },
     "execution_count": 27,
     "metadata": {},
     "output_type": "execute_result"
    }
   ],
   "source": [
    "expand(eq1*gFunc/fFunc+eq2)\n"
   ]
  },
  {
   "cell_type": "code",
   "execution_count": 28,
   "metadata": {},
   "outputs": [
    {
     "data": {
      "text/latex": [
       "$\\displaystyle - \\frac{K}{r^{2} f{\\left(r \\right)}} - \\frac{3 K}{L^{2} f{\\left(r \\right)}} + \\frac{\\frac{d}{d r} f{\\left(r \\right)}}{r f{\\left(r \\right)}} + \\frac{1}{r^{2}}$"
      ],
      "text/plain": [
       "-K/(r**2*f(r)) - 3*K/(L**2*f(r)) + Derivative(f(r), r)/(r*f(r)) + r**(-2)"
      ]
     },
     "execution_count": 28,
     "metadata": {},
     "output_type": "execute_result"
    }
   ],
   "source": [
    "K=symbols('K')\n",
    "eq=expand(eq2.subs(gFunc,K/fFunc))\n",
    "eq"
   ]
  },
  {
   "cell_type": "code",
   "execution_count": 29,
   "metadata": {},
   "outputs": [
    {
     "data": {
      "text/latex": [
       "$\\displaystyle f{\\left(r \\right)} = \\frac{C_{1}}{r} + K + \\frac{K r^{2}}{L^{2}}$"
      ],
      "text/plain": [
       "Eq(f(r), C1/r + K + K*r**2/L**2)"
      ]
     },
     "execution_count": 29,
     "metadata": {},
     "output_type": "execute_result"
    }
   ],
   "source": [
    "dsolve(eq)"
   ]
  },
  {
   "attachments": {},
   "cell_type": "markdown",
   "metadata": {},
   "source": [
    "# Planar Symmetry with some cosmological constant"
   ]
  },
  {
   "cell_type": "code",
   "execution_count": 30,
   "metadata": {},
   "outputs": [
    {
     "data": {
      "text/latex": [
       "$\\displaystyle \\left[\\begin{matrix}- e^{f{\\left(\\eta \\right)}} & 0 & 0 & 0\\\\0 & 1 & 0 & 0\\\\0 & 0 & e^{f{\\left(\\eta \\right)}} & 0\\\\0 & 0 & 0 & e^{f{\\left(\\eta \\right)}}\\end{matrix}\\right]$"
      ],
      "text/plain": [
       "Matrix([\n",
       "[-exp(f(eta)), 0,           0,           0],\n",
       "[           0, 1,           0,           0],\n",
       "[           0, 0, exp(f(eta)),           0],\n",
       "[           0, 0,           0, exp(f(eta))]])"
      ]
     },
     "metadata": {},
     "output_type": "display_data"
    }
   ],
   "source": [
    "AdSRad=symbols('L')\n",
    "cosmos_const=-3/AdSRad**2\n",
    "\n",
    "t,eta,x,y=coords=symbols('t,eta,x,y')\n",
    "fFunc=Function('f')(eta)\n",
    "gFunc=Function('g')(eta)\n",
    "g=diag(-exp(fFunc),1,exp(fFunc),exp(fFunc))\n",
    "\n",
    "display(g)"
   ]
  },
  {
   "cell_type": "code",
   "execution_count": 39,
   "metadata": {},
   "outputs": [],
   "source": [
    "Gm=Christoffel_Symbols(g,coords)\n",
    "Rie=Riemann_Tensor(Gm,coords)\n",
    "Ric=Ricci_Tensor(Rie)\n",
    "Ein=Einstein_Tensor(Ric,g)\n",
    "RicS=Ricci_Scalar(Ric,g)"
   ]
  },
  {
   "cell_type": "code",
   "execution_count": 40,
   "metadata": {},
   "outputs": [
    {
     "data": {
      "text/latex": [
       "$\\displaystyle - \\frac{3 e^{f{\\left(\\eta \\right)}} \\left(\\frac{d}{d \\eta} f{\\left(\\eta \\right)}\\right)^{2}}{4} - e^{f{\\left(\\eta \\right)}} \\frac{d^{2}}{d \\eta^{2}} f{\\left(\\eta \\right)} + \\frac{3 e^{f{\\left(\\eta \\right)}}}{L^{2}}$"
      ],
      "text/plain": [
       "-3*exp(f(eta))*Derivative(f(eta), eta)**2/4 - exp(f(eta))*Derivative(f(eta), (eta, 2)) + 3*exp(f(eta))/L**2"
      ]
     },
     "metadata": {},
     "output_type": "display_data"
    },
    {
     "data": {
      "text/latex": [
       "$\\displaystyle \\frac{3 \\left(\\frac{d}{d \\eta} f{\\left(\\eta \\right)}\\right)^{2}}{4} - \\frac{3}{L^{2}}$"
      ],
      "text/plain": [
       "3*Derivative(f(eta), eta)**2/4 - 3/L**2"
      ]
     },
     "metadata": {},
     "output_type": "display_data"
    },
    {
     "data": {
      "text/latex": [
       "$\\displaystyle \\frac{3 e^{f{\\left(\\eta \\right)}} \\left(\\frac{d}{d \\eta} f{\\left(\\eta \\right)}\\right)^{2}}{4} + e^{f{\\left(\\eta \\right)}} \\frac{d^{2}}{d \\eta^{2}} f{\\left(\\eta \\right)} - \\frac{3 e^{f{\\left(\\eta \\right)}}}{L^{2}}$"
      ],
      "text/plain": [
       "3*exp(f(eta))*Derivative(f(eta), eta)**2/4 + exp(f(eta))*Derivative(f(eta), (eta, 2)) - 3*exp(f(eta))/L**2"
      ]
     },
     "metadata": {},
     "output_type": "display_data"
    },
    {
     "data": {
      "text/latex": [
       "$\\displaystyle \\frac{3 e^{f{\\left(\\eta \\right)}} \\left(\\frac{d}{d \\eta} f{\\left(\\eta \\right)}\\right)^{2}}{4} + e^{f{\\left(\\eta \\right)}} \\frac{d^{2}}{d \\eta^{2}} f{\\left(\\eta \\right)} - \\frac{3 e^{f{\\left(\\eta \\right)}}}{L^{2}}$"
      ],
      "text/plain": [
       "3*exp(f(eta))*Derivative(f(eta), eta)**2/4 + exp(f(eta))*Derivative(f(eta), (eta, 2)) - 3*exp(f(eta))/L**2"
      ]
     },
     "metadata": {},
     "output_type": "display_data"
    }
   ],
   "source": [
    "# R_ij-1/2 g_ij R + Λ g_ij=0\n",
    "\n",
    "eqT=Ein+Array(g)*(cosmos_const)\n",
    "\n",
    "eq1=expand(eqT[0,0])\n",
    "eq2=expand(eqT[1,1])\n",
    "eq3=expand(eqT[2,2])\n",
    "eq4=expand(eqT[3,3])\n",
    "\n",
    "display(eq1)\n",
    "display(eq2)\n",
    "display(eq3)\n",
    "display(eq4)"
   ]
  },
  {
   "cell_type": "code",
   "execution_count": 41,
   "metadata": {},
   "outputs": [
    {
     "data": {
      "text/latex": [
       "$\\displaystyle f{\\left(\\eta \\right)} = C_{1} + \\frac{2 \\eta}{L}$"
      ],
      "text/plain": [
       "Eq(f(eta), C1 + 2*eta/L)"
      ]
     },
     "metadata": {},
     "output_type": "display_data"
    },
    {
     "data": {
      "text/latex": [
       "$\\displaystyle f{\\left(\\eta \\right)} = C_{1} - \\frac{2 \\eta}{L}$"
      ],
      "text/plain": [
       "Eq(f(eta), C1 - 2*eta/L)"
      ]
     },
     "metadata": {},
     "output_type": "display_data"
    }
   ],
   "source": [
    "fsubs1,fsubs2=dsolve(eq2)\n",
    "display(fsubs1,fsubs2)"
   ]
  },
  {
   "cell_type": "code",
   "execution_count": 42,
   "metadata": {},
   "outputs": [
    {
     "data": {
      "text/latex": [
       "$\\displaystyle 0$"
      ],
      "text/plain": [
       "0"
      ]
     },
     "metadata": {},
     "output_type": "display_data"
    },
    {
     "data": {
      "text/latex": [
       "$\\displaystyle 0$"
      ],
      "text/plain": [
       "0"
      ]
     },
     "metadata": {},
     "output_type": "display_data"
    },
    {
     "data": {
      "text/latex": [
       "$\\displaystyle 0$"
      ],
      "text/plain": [
       "0"
      ]
     },
     "metadata": {},
     "output_type": "display_data"
    },
    {
     "data": {
      "text/latex": [
       "$\\displaystyle 0$"
      ],
      "text/plain": [
       "0"
      ]
     },
     "metadata": {},
     "output_type": "display_data"
    }
   ],
   "source": [
    "display(eq1.subs(fFunc,fsubs1.rhs).doit())\n",
    "display(eq2.subs(fFunc,fsubs1.rhs).doit())\n",
    "display(eq3.subs(fFunc,fsubs1.rhs).doit())\n",
    "display(eq4.subs(fFunc,fsubs1.rhs).doit())"
   ]
  },
  {
   "cell_type": "code",
   "execution_count": 43,
   "metadata": {},
   "outputs": [
    {
     "data": {
      "text/latex": [
       "$\\displaystyle \\left[\\begin{matrix}- e^{C_{1} + \\frac{2 \\eta}{L}} & 0 & 0 & 0\\\\0 & 1 & 0 & 0\\\\0 & 0 & e^{C_{1} + \\frac{2 \\eta}{L}} & 0\\\\0 & 0 & 0 & e^{C_{1} + \\frac{2 \\eta}{L}}\\end{matrix}\\right]$"
      ],
      "text/plain": [
       "Matrix([\n",
       "[-exp(C1 + 2*eta/L), 0,                 0,                 0],\n",
       "[                 0, 1,                 0,                 0],\n",
       "[                 0, 0, exp(C1 + 2*eta/L),                 0],\n",
       "[                 0, 0,                 0, exp(C1 + 2*eta/L)]])"
      ]
     },
     "metadata": {},
     "output_type": "display_data"
    },
    {
     "data": {
      "text/latex": [
       "$\\displaystyle \\left[\\begin{matrix}\\frac{3 e^{C_{1} + \\frac{2 \\eta}{L}}}{L^{2}} & 0 & 0 & 0\\\\0 & - \\frac{3}{L^{2}} & 0 & 0\\\\0 & 0 & - \\frac{3 e^{C_{1} + \\frac{2 \\eta}{L}}}{L^{2}} & 0\\\\0 & 0 & 0 & - \\frac{3 e^{C_{1} + \\frac{2 \\eta}{L}}}{L^{2}}\\end{matrix}\\right]$"
      ],
      "text/plain": [
       "[[3*exp(C1 + 2*eta/L)/L**2, 0, 0, 0], [0, -3/L**2, 0, 0], [0, 0, -3*exp(C1 + 2*eta/L)/L**2, 0], [0, 0, 0, -3*exp(C1 + 2*eta/L)/L**2]]"
      ]
     },
     "metadata": {},
     "output_type": "display_data"
    },
    {
     "data": {
      "text/latex": [
       "$\\displaystyle - \\frac{12}{L^{2}}$"
      ],
      "text/plain": [
       "-12/L**2"
      ]
     },
     "metadata": {},
     "output_type": "display_data"
    }
   ],
   "source": [
    "display(g.subs(fFunc,fsubs1.rhs).doit())\n",
    "display(Ric.subs(fFunc,fsubs1.rhs).doit())\n",
    "display(RicS.subs(fFunc,fsubs1.rhs).doit())"
   ]
  },
  {
   "cell_type": "code",
   "execution_count": null,
   "metadata": {},
   "outputs": [],
   "source": []
  }
 ],
 "metadata": {
  "kernelspec": {
   "display_name": "tf-gpu",
   "language": "python",
   "name": "tf-gpu"
  },
  "language_info": {
   "codemirror_mode": {
    "name": "ipython",
    "version": 3
   },
   "file_extension": ".py",
   "mimetype": "text/x-python",
   "name": "python",
   "nbconvert_exporter": "python",
   "pygments_lexer": "ipython3",
   "version": "3.9.15"
  },
  "orig_nbformat": 4
 },
 "nbformat": 4,
 "nbformat_minor": 2
}
